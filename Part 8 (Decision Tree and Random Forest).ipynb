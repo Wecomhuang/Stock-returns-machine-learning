{
 "cells": [
  {
   "cell_type": "code",
   "execution_count": 1,
   "id": "0b33a829",
   "metadata": {},
   "outputs": [],
   "source": [
    "import numpy as np\n",
    "import pandas as pd\n",
    "import yfinance as yf\n",
    "from datetime import datetime"
   ]
  },
  {
   "cell_type": "code",
   "execution_count": 2,
   "id": "028a5398",
   "metadata": {},
   "outputs": [],
   "source": [
    "# import seaborn and matplotlib for charting and data visualisation\n",
    "import matplotlib.pyplot as plt\n",
    "import seaborn as sns\n",
    "%matplotlib inline\n",
    "plt.style.use('ggplot')"
   ]
  },
  {
   "cell_type": "code",
   "execution_count": 3,
   "id": "78ebfa3b",
   "metadata": {},
   "outputs": [
    {
     "data": {
      "text/html": [
       "        <script type=\"text/javascript\">\n",
       "        window.PlotlyConfig = {MathJaxConfig: 'local'};\n",
       "        if (window.MathJax && window.MathJax.Hub && window.MathJax.Hub.Config) {window.MathJax.Hub.Config({SVG: {font: \"STIX-Web\"}});}\n",
       "        if (typeof require !== 'undefined') {\n",
       "        require.undef(\"plotly\");\n",
       "        requirejs.config({\n",
       "            paths: {\n",
       "                'plotly': ['https://cdn.plot.ly/plotly-2.12.1.min']\n",
       "            }\n",
       "        });\n",
       "        require(['plotly'], function(Plotly) {\n",
       "            window._Plotly = Plotly;\n",
       "        });\n",
       "        }\n",
       "        </script>\n",
       "        "
      ]
     },
     "metadata": {},
     "output_type": "display_data"
    },
    {
     "data": {
      "text/html": [
       "        <script type=\"text/javascript\">\n",
       "        window.PlotlyConfig = {MathJaxConfig: 'local'};\n",
       "        if (window.MathJax && window.MathJax.Hub && window.MathJax.Hub.Config) {window.MathJax.Hub.Config({SVG: {font: \"STIX-Web\"}});}\n",
       "        if (typeof require !== 'undefined') {\n",
       "        require.undef(\"plotly\");\n",
       "        requirejs.config({\n",
       "            paths: {\n",
       "                'plotly': ['https://cdn.plot.ly/plotly-2.12.1.min']\n",
       "            }\n",
       "        });\n",
       "        require(['plotly'], function(Plotly) {\n",
       "            window._Plotly = Plotly;\n",
       "        });\n",
       "        }\n",
       "        </script>\n",
       "        "
      ]
     },
     "metadata": {},
     "output_type": "display_data"
    }
   ],
   "source": [
    "#import plotly and cufflinks for interactive visualisations\n",
    "from plotly.offline import download_plotlyjs, init_notebook_mode, plot, iplot\n",
    "import cufflinks as cf\n",
    "init_notebook_mode(connected=True)\n",
    "cf.go_offline()"
   ]
  },
  {
   "cell_type": "code",
   "execution_count": 4,
   "id": "2c4c2426",
   "metadata": {},
   "outputs": [],
   "source": [
    "# To import csv file containing fundamental data downloaded from S&P Capital IQ, as well as other features and the labels for machine learning.\n",
    "stockdata = pd.read_csv('cleaned stockdata.csv', index_col=0)"
   ]
  },
  {
   "cell_type": "code",
   "execution_count": 5,
   "id": "212ed815",
   "metadata": {},
   "outputs": [],
   "source": [
    "stockdata=pd.get_dummies(data=stockdata, columns=['Sector', 'Country.1','IQ_AUDITOR_OPINION'], drop_first=True, dummy_na=True).drop(['Country.1_nan','IQ_AUDITOR_OPINION_nan'],axis=1)"
   ]
  },
  {
   "cell_type": "code",
   "execution_count": 6,
   "id": "e83a4e28",
   "metadata": {},
   "outputs": [],
   "source": [
    "#To create a categorical variable based on effective annual return.\n",
    "stockdata['Positive or negative returns'] = [1 if x >= 0 else 0 for x in stockdata['Effective annual return']]"
   ]
  },
  {
   "cell_type": "markdown",
   "id": "a87b3086",
   "metadata": {},
   "source": [
    "# Decision Tree"
   ]
  },
  {
   "cell_type": "code",
   "execution_count": 87,
   "id": "2afd62fd",
   "metadata": {},
   "outputs": [],
   "source": [
    "from sklearn.model_selection import train_test_split\n",
    "\n",
    "X_train, X_test, y_train, y_test = train_test_split(stockdata.drop(['Symbol','longName','Name','IPO Year','Effective annual return','CIQ ID', 'Ticker', 'Short Business Description','Positive or negative returns'],axis=1), \n",
    "                                                    stockdata['Positive or negative returns'], test_size=0.30, \n",
    "                                                    random_state=101)"
   ]
  },
  {
   "cell_type": "code",
   "execution_count": 88,
   "id": "b4875a1d",
   "metadata": {},
   "outputs": [
    {
     "data": {
      "text/plain": [
       "DecisionTreeClassifier()"
      ]
     },
     "execution_count": 88,
     "metadata": {},
     "output_type": "execute_result"
    }
   ],
   "source": [
    "from sklearn.tree import DecisionTreeClassifier\n",
    "dtree = DecisionTreeClassifier()\n",
    "dtree.fit(X_train,y_train)"
   ]
  },
  {
   "cell_type": "code",
   "execution_count": 89,
   "id": "b436755d",
   "metadata": {},
   "outputs": [],
   "source": [
    "predictions = dtree.predict(X_test)"
   ]
  },
  {
   "cell_type": "code",
   "execution_count": 90,
   "id": "35c73b3d",
   "metadata": {},
   "outputs": [
    {
     "name": "stdout",
     "output_type": "stream",
     "text": [
      "              precision    recall  f1-score   support\n",
      "\n",
      "           0       0.42      0.46      0.44       205\n",
      "           1       0.82      0.80      0.81       647\n",
      "\n",
      "    accuracy                           0.72       852\n",
      "   macro avg       0.62      0.63      0.63       852\n",
      "weighted avg       0.73      0.72      0.72       852\n",
      "\n"
     ]
    }
   ],
   "source": [
    "from sklearn.metrics import classification_report,confusion_matrix\n",
    "print(classification_report(y_test,predictions))"
   ]
  },
  {
   "cell_type": "code",
   "execution_count": 91,
   "id": "75e45970",
   "metadata": {
    "scrolled": true
   },
   "outputs": [
    {
     "name": "stdout",
     "output_type": "stream",
     "text": [
      "[[ 94 111]\n",
      " [128 519]]\n"
     ]
    }
   ],
   "source": [
    "print(confusion_matrix(y_test,predictions))"
   ]
  },
  {
   "cell_type": "code",
   "execution_count": 97,
   "id": "691bc802",
   "metadata": {},
   "outputs": [],
   "source": [
    "#Remove the dummy variables for Country.1 except for Country.1_United States\n",
    "X_train, X_test, y_train, y_test = train_test_split(pd.concat([stockdata.iloc[:,8:48],stockdata['Country.1_United States'],stockdata.iloc[:,95:99]],axis=1), \n",
    "                                                    stockdata['Positive or negative returns'], test_size=0.30, \n",
    "                                                    random_state=101)"
   ]
  },
  {
   "cell_type": "code",
   "execution_count": 98,
   "id": "e58b966b",
   "metadata": {},
   "outputs": [
    {
     "data": {
      "text/plain": [
       "DecisionTreeClassifier()"
      ]
     },
     "execution_count": 98,
     "metadata": {},
     "output_type": "execute_result"
    }
   ],
   "source": [
    "from sklearn.tree import DecisionTreeClassifier\n",
    "dtree = DecisionTreeClassifier()\n",
    "dtree.fit(X_train,y_train)"
   ]
  },
  {
   "cell_type": "code",
   "execution_count": 99,
   "id": "78ab69cc",
   "metadata": {},
   "outputs": [],
   "source": [
    "predictions = dtree.predict(X_test)"
   ]
  },
  {
   "cell_type": "code",
   "execution_count": 100,
   "id": "7f66610f",
   "metadata": {},
   "outputs": [
    {
     "name": "stdout",
     "output_type": "stream",
     "text": [
      "              precision    recall  f1-score   support\n",
      "\n",
      "           0       0.41      0.44      0.42       205\n",
      "           1       0.82      0.80      0.81       647\n",
      "\n",
      "    accuracy                           0.71       852\n",
      "   macro avg       0.61      0.62      0.62       852\n",
      "weighted avg       0.72      0.71      0.71       852\n",
      "\n"
     ]
    }
   ],
   "source": [
    "from sklearn.metrics import classification_report,confusion_matrix\n",
    "print(classification_report(y_test,predictions))"
   ]
  },
  {
   "cell_type": "code",
   "execution_count": 101,
   "id": "f0139261",
   "metadata": {},
   "outputs": [
    {
     "name": "stdout",
     "output_type": "stream",
     "text": [
      "[[ 90 115]\n",
      " [131 516]]\n"
     ]
    }
   ],
   "source": [
    "print(confusion_matrix(y_test,predictions))"
   ]
  },
  {
   "cell_type": "markdown",
   "id": "88459168",
   "metadata": {},
   "source": [
    "# Random Forest"
   ]
  },
  {
   "cell_type": "code",
   "execution_count": 107,
   "id": "94febba8",
   "metadata": {},
   "outputs": [],
   "source": [
    "from sklearn.model_selection import train_test_split\n",
    "\n",
    "X_train, X_test, y_train, y_test = train_test_split(stockdata.drop(['Symbol','longName','Name','IPO Year','Effective annual return','CIQ ID', 'Ticker', 'Short Business Description','Positive or negative returns'],axis=1), \n",
    "                                                    stockdata['Positive or negative returns'], test_size=0.30, \n",
    "                                                    random_state=101)"
   ]
  },
  {
   "cell_type": "code",
   "execution_count": 108,
   "id": "15372167",
   "metadata": {},
   "outputs": [
    {
     "data": {
      "text/plain": [
       "RandomForestClassifier()"
      ]
     },
     "execution_count": 108,
     "metadata": {},
     "output_type": "execute_result"
    }
   ],
   "source": [
    "from sklearn.ensemble import RandomForestClassifier\n",
    "rfc = RandomForestClassifier(n_estimators=100)\n",
    "rfc.fit(X_train, y_train)"
   ]
  },
  {
   "cell_type": "code",
   "execution_count": 109,
   "id": "b273ae0c",
   "metadata": {},
   "outputs": [],
   "source": [
    "rfc_pred = rfc.predict(X_test)"
   ]
  },
  {
   "cell_type": "code",
   "execution_count": 110,
   "id": "af3bd2f2",
   "metadata": {},
   "outputs": [
    {
     "name": "stdout",
     "output_type": "stream",
     "text": [
      "              precision    recall  f1-score   support\n",
      "\n",
      "           0       0.67      0.35      0.46       205\n",
      "           1       0.82      0.95      0.88       647\n",
      "\n",
      "    accuracy                           0.80       852\n",
      "   macro avg       0.75      0.65      0.67       852\n",
      "weighted avg       0.78      0.80      0.78       852\n",
      "\n"
     ]
    }
   ],
   "source": [
    "print(classification_report(y_test,rfc_pred))"
   ]
  },
  {
   "cell_type": "code",
   "execution_count": 111,
   "id": "1e68467f",
   "metadata": {},
   "outputs": [
    {
     "name": "stdout",
     "output_type": "stream",
     "text": [
      "[[ 71 134]\n",
      " [ 35 612]]\n"
     ]
    }
   ],
   "source": [
    "print(confusion_matrix(y_test,rfc_pred))"
   ]
  },
  {
   "cell_type": "code",
   "execution_count": 126,
   "id": "0bf6ebaf",
   "metadata": {},
   "outputs": [],
   "source": [
    "#Remove the dummy variables for Country.1 except for Country.1_United States\n",
    "X_train, X_test, y_train, y_test = train_test_split(pd.concat([stockdata.iloc[:,8:48],stockdata['Country.1_United States'],stockdata.iloc[:,95:99]],axis=1), \n",
    "                                                    stockdata['Positive or negative returns'], test_size=0.30, \n",
    "                                                    random_state=101)"
   ]
  },
  {
   "cell_type": "code",
   "execution_count": 127,
   "id": "97c8e389",
   "metadata": {},
   "outputs": [
    {
     "data": {
      "text/plain": [
       "RandomForestClassifier()"
      ]
     },
     "execution_count": 127,
     "metadata": {},
     "output_type": "execute_result"
    }
   ],
   "source": [
    "from sklearn.ensemble import RandomForestClassifier\n",
    "rfc = RandomForestClassifier(n_estimators=100)\n",
    "rfc.fit(X_train, y_train)"
   ]
  },
  {
   "cell_type": "code",
   "execution_count": 128,
   "id": "c1ea4728",
   "metadata": {},
   "outputs": [],
   "source": [
    "rfc_pred = rfc.predict(X_test)"
   ]
  },
  {
   "cell_type": "code",
   "execution_count": 129,
   "id": "777f5709",
   "metadata": {},
   "outputs": [
    {
     "name": "stdout",
     "output_type": "stream",
     "text": [
      "              precision    recall  f1-score   support\n",
      "\n",
      "           0       0.66      0.35      0.46       205\n",
      "           1       0.82      0.94      0.88       647\n",
      "\n",
      "    accuracy                           0.80       852\n",
      "   macro avg       0.74      0.65      0.67       852\n",
      "weighted avg       0.78      0.80      0.78       852\n",
      "\n"
     ]
    }
   ],
   "source": [
    "print(classification_report(y_test,rfc_pred))"
   ]
  },
  {
   "cell_type": "code",
   "execution_count": 130,
   "id": "f18756ee",
   "metadata": {},
   "outputs": [
    {
     "name": "stdout",
     "output_type": "stream",
     "text": [
      "[[ 72 133]\n",
      " [ 37 610]]\n"
     ]
    }
   ],
   "source": [
    "print(confusion_matrix(y_test,rfc_pred))"
   ]
  },
  {
   "cell_type": "markdown",
   "id": "30cde48a",
   "metadata": {},
   "source": [
    "**Recursive Feature Elimination**"
   ]
  },
  {
   "cell_type": "code",
   "execution_count": 139,
   "id": "47ffc6b0",
   "metadata": {},
   "outputs": [],
   "source": [
    "from sklearn.model_selection import train_test_split\n",
    "\n",
    "X_train, X_test, y_train, y_test = train_test_split(stockdata.drop(['Symbol','longName','Name','IPO Year','Effective annual return','CIQ ID', 'Ticker', 'Short Business Description','Positive or negative returns'],axis=1), \n",
    "                                                    stockdata['Positive or negative returns'], test_size=0.30, \n",
    "                                                    random_state=101)"
   ]
  },
  {
   "cell_type": "code",
   "execution_count": 140,
   "id": "e31bc572",
   "metadata": {},
   "outputs": [
    {
     "data": {
      "text/plain": [
       "Index(['IQ_TOTAL_REV', 'IQ_RETURN_ASSETS', 'IQ_RETURN_EQUITY',\n",
       "       'IQ_GROSS_MARGIN', 'IQ_EBITDA_MARGIN', 'IQ_NI_MARGIN', 'IQ_ASSET_TURNS',\n",
       "       'IQ_CURRENT_RATIO', 'IQ_DAYS_SALES_OUT', 'IQ_DAYS_INVENTORY_OUT',\n",
       "       'IQ_DAYS_PAYABLE_OUT', 'IQ_TOTAL_DEBT_EQUITY',\n",
       "       'IQ_TOTAL_REV_1YR_ANN_GROWTH', 'IQ_NI_1YR_ANN_GROWTH',\n",
       "       'IQ_CFO_1YR_ANN_GROWTH', 'IQ_TOTAL_ASSETS_1YR_ANN_GROWTH', 'IQ_EBITDA',\n",
       "       'IQ_PAYOUT_RATIO', 'IQ_CASH_ST_INVEST', 'IQ_NPPE', 'IQ_GW', 'IQ_RE',\n",
       "       'IQ_TBV', 'IQ_NET_DEBT', 'IQ_CONTINGENT_LIABILITIES', 'IQ_CASH_OPER',\n",
       "       'IQ_CASH_INVEST', 'IQ_NET_CHANGE', 'Sector_Consumer Discretionary',\n",
       "       'Sector_Energy', 'Sector_Finance', 'Sector_Health Care',\n",
       "       'Sector_Industrials', 'Sector_Real Estate', 'Sector_Technology',\n",
       "       'Sector_Telecommunications', 'Sector_Utilities', 'Sector_nan',\n",
       "       'Country.1_Canada', 'Country.1_China', 'Country.1_Greece',\n",
       "       'Country.1_United States', 'IQ_AUDITOR_OPINION_Unqualified',\n",
       "       'IQ_AUDITOR_OPINION_Unqualified Going Concern',\n",
       "       'IQ_AUDITOR_OPINION_Unqualified with Additional Language'],\n",
       "      dtype='object')"
      ]
     },
     "execution_count": 140,
     "metadata": {},
     "output_type": "execute_result"
    }
   ],
   "source": [
    "# Half of the features will be selected by default, by eliminating the least important feature after recursively training.\n",
    "from sklearn.feature_selection import RFE\n",
    "\n",
    "rfe_selector = RFE(estimator=RandomForestClassifier(), step = 1)\n",
    "rfe_selector.fit(X_train, y_train)\n",
    "pd.DataFrame(X_train,columns=stockdata.drop(['Symbol','longName','Name','IPO Year','Effective annual return','CIQ ID', 'Ticker', 'Short Business Description','Positive or negative returns'],axis=1).columns).columns[rfe_selector.get_support()]"
   ]
  },
  {
   "cell_type": "code",
   "execution_count": 141,
   "id": "33575ef1",
   "metadata": {},
   "outputs": [],
   "source": [
    "X_train, X_test, y_train, y_test = train_test_split(stockdata[['IQ_TOTAL_REV', 'IQ_RETURN_ASSETS', 'IQ_RETURN_EQUITY',\n",
    "       'IQ_GROSS_MARGIN', 'IQ_EBITDA_MARGIN', 'IQ_NI_MARGIN', 'IQ_ASSET_TURNS',\n",
    "       'IQ_CURRENT_RATIO', 'IQ_DAYS_SALES_OUT', 'IQ_DAYS_INVENTORY_OUT',\n",
    "       'IQ_DAYS_PAYABLE_OUT', 'IQ_TOTAL_DEBT_EQUITY',\n",
    "       'IQ_TOTAL_REV_1YR_ANN_GROWTH', 'IQ_NI_1YR_ANN_GROWTH',\n",
    "       'IQ_CFO_1YR_ANN_GROWTH', 'IQ_TOTAL_ASSETS_1YR_ANN_GROWTH', 'IQ_EBITDA',\n",
    "       'IQ_PAYOUT_RATIO', 'IQ_CASH_ST_INVEST', 'IQ_NPPE', 'IQ_GW', 'IQ_RE',\n",
    "       'IQ_TBV', 'IQ_NET_DEBT', 'IQ_CONTINGENT_LIABILITIES', 'IQ_CASH_OPER',\n",
    "       'IQ_CASH_INVEST', 'IQ_NET_CHANGE', 'Sector_Consumer Discretionary',\n",
    "       'Sector_Energy', 'Sector_Finance', 'Sector_Health Care',\n",
    "       'Sector_Industrials', 'Sector_Real Estate', 'Sector_Technology',\n",
    "       'Sector_Telecommunications', 'Sector_Utilities', 'Sector_nan',\n",
    "       'Country.1_Canada', 'Country.1_Greece', 'Country.1_Israel',\n",
    "       'Country.1_United States', 'IQ_AUDITOR_OPINION_Unqualified',\n",
    "       'IQ_AUDITOR_OPINION_Unqualified Going Concern',\n",
    "       'IQ_AUDITOR_OPINION_Unqualified with Additional Language']], \n",
    "                                                    stockdata['Positive or negative returns'], test_size=0.30, \n",
    "                                                    random_state=101)"
   ]
  },
  {
   "cell_type": "code",
   "execution_count": 142,
   "id": "46fe8fc4",
   "metadata": {},
   "outputs": [
    {
     "data": {
      "text/plain": [
       "RandomForestClassifier()"
      ]
     },
     "execution_count": 142,
     "metadata": {},
     "output_type": "execute_result"
    }
   ],
   "source": [
    "from sklearn.ensemble import RandomForestClassifier\n",
    "rfc = RandomForestClassifier(n_estimators=100)\n",
    "rfc.fit(X_train, y_train)"
   ]
  },
  {
   "cell_type": "code",
   "execution_count": 143,
   "id": "f83c86e5",
   "metadata": {},
   "outputs": [],
   "source": [
    "rfc_pred = rfc.predict(X_test)"
   ]
  },
  {
   "cell_type": "code",
   "execution_count": 144,
   "id": "a047bcd0",
   "metadata": {},
   "outputs": [
    {
     "name": "stdout",
     "output_type": "stream",
     "text": [
      "              precision    recall  f1-score   support\n",
      "\n",
      "           0       0.65      0.35      0.46       205\n",
      "           1       0.82      0.94      0.88       647\n",
      "\n",
      "    accuracy                           0.80       852\n",
      "   macro avg       0.74      0.65      0.67       852\n",
      "weighted avg       0.78      0.80      0.78       852\n",
      "\n"
     ]
    }
   ],
   "source": [
    "print(classification_report(y_test,rfc_pred))"
   ]
  },
  {
   "cell_type": "code",
   "execution_count": 145,
   "id": "56c1c50c",
   "metadata": {},
   "outputs": [
    {
     "name": "stdout",
     "output_type": "stream",
     "text": [
      "[[ 72 133]\n",
      " [ 38 609]]\n"
     ]
    }
   ],
   "source": [
    "print(confusion_matrix(y_test,rfc_pred))"
   ]
  },
  {
   "cell_type": "code",
   "execution_count": 147,
   "id": "d39cd36e",
   "metadata": {},
   "outputs": [],
   "source": [
    "from sklearn.model_selection import train_test_split\n",
    "\n",
    "X_train, X_test, y_train, y_test = train_test_split(stockdata.drop(['Symbol','longName','Name','IPO Year','Effective annual return','CIQ ID', 'Ticker', 'Short Business Description','Positive or negative returns'],axis=1), \n",
    "                                                    stockdata['Positive or negative returns'], test_size=0.30, \n",
    "                                                    random_state=101)"
   ]
  },
  {
   "cell_type": "code",
   "execution_count": 148,
   "id": "1cf8e65c",
   "metadata": {},
   "outputs": [
    {
     "data": {
      "text/plain": [
       "Index(['IQ_TOTAL_REV', 'IQ_RETURN_ASSETS', 'IQ_EBITDA_MARGIN',\n",
       "       'IQ_TOTAL_REV_1YR_ANN_GROWTH', 'IQ_TOTAL_ASSETS_1YR_ANN_GROWTH',\n",
       "       'IQ_EBITDA', 'IQ_RE', 'IQ_TBV', 'IQ_NET_DEBT', 'IQ_CASH_OPER'],\n",
       "      dtype='object')"
      ]
     },
     "execution_count": 148,
     "metadata": {},
     "output_type": "execute_result"
    }
   ],
   "source": [
    "# 10 features to be selected.\n",
    "from sklearn.feature_selection import RFE\n",
    "\n",
    "rfe_selector = RFE(estimator=RandomForestClassifier(), step = 1, n_features_to_select=10)\n",
    "rfe_selector.fit(X_train, y_train)\n",
    "pd.DataFrame(X_train,columns=stockdata.drop(['Symbol','longName','Name','IPO Year','Effective annual return','CIQ ID', 'Ticker', 'Short Business Description','Positive or negative returns'],axis=1).columns).columns[rfe_selector.get_support()]"
   ]
  },
  {
   "cell_type": "code",
   "execution_count": 150,
   "id": "7a795630",
   "metadata": {},
   "outputs": [],
   "source": [
    "X_train, X_test, y_train, y_test = train_test_split(stockdata[['IQ_TOTAL_REV', 'IQ_RETURN_ASSETS', 'IQ_EBITDA_MARGIN',\n",
    "       'IQ_TOTAL_REV_1YR_ANN_GROWTH', 'IQ_TOTAL_ASSETS_1YR_ANN_GROWTH',\n",
    "       'IQ_EBITDA', 'IQ_RE', 'IQ_TBV', 'IQ_NET_DEBT', 'IQ_CASH_OPER']], \n",
    "                                                    stockdata['Positive or negative returns'], test_size=0.30, \n",
    "                                                    random_state=101)"
   ]
  },
  {
   "cell_type": "code",
   "execution_count": 151,
   "id": "3ca09cd7",
   "metadata": {},
   "outputs": [
    {
     "data": {
      "text/plain": [
       "RandomForestClassifier()"
      ]
     },
     "execution_count": 151,
     "metadata": {},
     "output_type": "execute_result"
    }
   ],
   "source": [
    "from sklearn.ensemble import RandomForestClassifier\n",
    "rfc = RandomForestClassifier(n_estimators=100)\n",
    "rfc.fit(X_train, y_train)"
   ]
  },
  {
   "cell_type": "code",
   "execution_count": 152,
   "id": "7c1123de",
   "metadata": {},
   "outputs": [],
   "source": [
    "rfc_pred = rfc.predict(X_test)"
   ]
  },
  {
   "cell_type": "code",
   "execution_count": 153,
   "id": "13b09713",
   "metadata": {},
   "outputs": [
    {
     "name": "stdout",
     "output_type": "stream",
     "text": [
      "              precision    recall  f1-score   support\n",
      "\n",
      "           0       0.58      0.25      0.35       205\n",
      "           1       0.80      0.94      0.86       647\n",
      "\n",
      "    accuracy                           0.78       852\n",
      "   macro avg       0.69      0.60      0.61       852\n",
      "weighted avg       0.75      0.78      0.74       852\n",
      "\n"
     ]
    }
   ],
   "source": [
    "print(classification_report(y_test,rfc_pred))"
   ]
  },
  {
   "cell_type": "code",
   "execution_count": 154,
   "id": "fd5bb337",
   "metadata": {},
   "outputs": [
    {
     "name": "stdout",
     "output_type": "stream",
     "text": [
      "[[ 52 153]\n",
      " [ 38 609]]\n"
     ]
    }
   ],
   "source": [
    "print(confusion_matrix(y_test,rfc_pred))"
   ]
  },
  {
   "cell_type": "markdown",
   "id": "a8badb2b",
   "metadata": {},
   "source": [
    "It seems with less features, the random forest performs worse. No further feature selection is performed."
   ]
  },
  {
   "cell_type": "markdown",
   "id": "d65f3c07",
   "metadata": {},
   "source": [
    "**Decision Tree and Random Forest model metrics**\n",
    "\n",
    "|**Features**|**Accuracy**|**Weight avg f1-score**|\n",
    "|---------------------------|-----|---|\n",
    "|Decision tree with all 91 features including all dummy variables|0.72|0.72|\n",
    "|Decision tree With Country.1 dummy variables removed except Country.1_United States (45 features)|0.71|0.71|\n",
    "|Random forest with all 91 features including all dummy variables|**0.80**|**0.78**|\n",
    "|Random forest with Country.1 dummy variables removed except Country.1_United States (45 features)|**0.80**|**0.78**|\n",
    "|Random forest with recursive feature elimination with all dummy variables (45 features)|**0.80**|**0.78**|\n",
    "|Random forest with recursive feature elimination with all dummy variables (10 features)|0.78|0.74|"
   ]
  }
 ],
 "metadata": {
  "kernelspec": {
   "display_name": "Python 3 (ipykernel)",
   "language": "python",
   "name": "python3"
  },
  "language_info": {
   "codemirror_mode": {
    "name": "ipython",
    "version": 3
   },
   "file_extension": ".py",
   "mimetype": "text/x-python",
   "name": "python",
   "nbconvert_exporter": "python",
   "pygments_lexer": "ipython3",
   "version": "3.9.13"
  }
 },
 "nbformat": 4,
 "nbformat_minor": 5
}
