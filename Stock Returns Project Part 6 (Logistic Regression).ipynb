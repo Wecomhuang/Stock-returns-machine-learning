{
 "cells": [
  {
   "cell_type": "code",
   "execution_count": 1,
   "id": "ec1769ee",
   "metadata": {},
   "outputs": [],
   "source": [
    "import numpy as np\n",
    "import pandas as pd\n",
    "import yfinance as yf\n",
    "from datetime import datetime"
   ]
  },
  {
   "cell_type": "code",
   "execution_count": 2,
   "id": "aaca554e",
   "metadata": {},
   "outputs": [],
   "source": [
    "# import seaborn and matplotlib for charting and data visualisation\n",
    "import matplotlib.pyplot as plt\n",
    "import seaborn as sns\n",
    "%matplotlib inline\n",
    "plt.style.use('ggplot')"
   ]
  },
  {
   "cell_type": "code",
   "execution_count": 3,
   "id": "e4939c26",
   "metadata": {},
   "outputs": [
    {
     "data": {
      "text/html": [
       "        <script type=\"text/javascript\">\n",
       "        window.PlotlyConfig = {MathJaxConfig: 'local'};\n",
       "        if (window.MathJax && window.MathJax.Hub && window.MathJax.Hub.Config) {window.MathJax.Hub.Config({SVG: {font: \"STIX-Web\"}});}\n",
       "        if (typeof require !== 'undefined') {\n",
       "        require.undef(\"plotly\");\n",
       "        requirejs.config({\n",
       "            paths: {\n",
       "                'plotly': ['https://cdn.plot.ly/plotly-2.12.1.min']\n",
       "            }\n",
       "        });\n",
       "        require(['plotly'], function(Plotly) {\n",
       "            window._Plotly = Plotly;\n",
       "        });\n",
       "        }\n",
       "        </script>\n",
       "        "
      ]
     },
     "metadata": {},
     "output_type": "display_data"
    },
    {
     "data": {
      "text/html": [
       "        <script type=\"text/javascript\">\n",
       "        window.PlotlyConfig = {MathJaxConfig: 'local'};\n",
       "        if (window.MathJax && window.MathJax.Hub && window.MathJax.Hub.Config) {window.MathJax.Hub.Config({SVG: {font: \"STIX-Web\"}});}\n",
       "        if (typeof require !== 'undefined') {\n",
       "        require.undef(\"plotly\");\n",
       "        requirejs.config({\n",
       "            paths: {\n",
       "                'plotly': ['https://cdn.plot.ly/plotly-2.12.1.min']\n",
       "            }\n",
       "        });\n",
       "        require(['plotly'], function(Plotly) {\n",
       "            window._Plotly = Plotly;\n",
       "        });\n",
       "        }\n",
       "        </script>\n",
       "        "
      ]
     },
     "metadata": {},
     "output_type": "display_data"
    }
   ],
   "source": [
    "#import plotly and cufflinks for interactive visualisations\n",
    "from plotly.offline import download_plotlyjs, init_notebook_mode, plot, iplot\n",
    "import cufflinks as cf\n",
    "init_notebook_mode(connected=True)\n",
    "cf.go_offline()"
   ]
  },
  {
   "cell_type": "code",
   "execution_count": 4,
   "id": "261756b9",
   "metadata": {},
   "outputs": [],
   "source": [
    "# To import csv file containing fundamental data downloaded from S&P Capital IQ, as well as other features and the labels for machine learning.\n",
    "stockdata = pd.read_csv('cleaned stockdata.csv', index_col=0)"
   ]
  },
  {
   "cell_type": "code",
   "execution_count": 5,
   "id": "22837b1c",
   "metadata": {},
   "outputs": [],
   "source": [
    "stockdata=pd.get_dummies(data=stockdata, columns=['Sector', 'Country.1','IQ_AUDITOR_OPINION'], drop_first=True, dummy_na=True).drop(['Country.1_nan','IQ_AUDITOR_OPINION_nan'],axis=1)"
   ]
  },
  {
   "cell_type": "code",
   "execution_count": 6,
   "id": "25ab3405",
   "metadata": {},
   "outputs": [],
   "source": [
    "#To create a categorical variable based on effective annual return.\n",
    "stockdata['Positive or negative returns'] = [1 if x >= 0 else 0 for x in stockdata['Effective annual return']]"
   ]
  },
  {
   "cell_type": "code",
   "execution_count": 7,
   "id": "80437397",
   "metadata": {
    "scrolled": false
   },
   "outputs": [
    {
     "name": "stdout",
     "output_type": "stream",
     "text": [
      "<class 'pandas.core.frame.DataFrame'>\n",
      "Int64Index: 2839 entries, 0 to 2949\n",
      "Data columns (total 100 columns):\n",
      " #   Column                                                   Non-Null Count  Dtype  \n",
      "---  ------                                                   --------------  -----  \n",
      " 0   Symbol                                                   2839 non-null   object \n",
      " 1   longName                                                 2839 non-null   object \n",
      " 2   Name                                                     2839 non-null   object \n",
      " 3   IPO Year                                                 1088 non-null   float64\n",
      " 4   Effective annual return                                  2839 non-null   float64\n",
      " 5   CIQ ID                                                   2839 non-null   object \n",
      " 6   Ticker                                                   2730 non-null   object \n",
      " 7   Short Business Description                               2831 non-null   object \n",
      " 8   IQ_TOTAL_REV                                             2839 non-null   float64\n",
      " 9   IQ_RETURN_ASSETS                                         2839 non-null   float64\n",
      " 10  IQ_RETURN_EQUITY                                         2839 non-null   float64\n",
      " 11  IQ_GROSS_MARGIN                                          2839 non-null   float64\n",
      " 12  IQ_EBITDA_MARGIN                                         2839 non-null   float64\n",
      " 13  IQ_NI_MARGIN                                             2839 non-null   float64\n",
      " 14  IQ_ASSET_TURNS                                           2839 non-null   float64\n",
      " 15  IQ_CURRENT_RATIO                                         2839 non-null   float64\n",
      " 16  IQ_DAYS_SALES_OUT                                        2839 non-null   float64\n",
      " 17  IQ_DAYS_INVENTORY_OUT                                    2839 non-null   float64\n",
      " 18  IQ_DAYS_PAYABLE_OUT                                      2839 non-null   float64\n",
      " 19  IQ_TOTAL_DEBT_EQUITY                                     2839 non-null   float64\n",
      " 20  IQ_TOTAL_REV_1YR_ANN_GROWTH                              2839 non-null   float64\n",
      " 21  IQ_NI_1YR_ANN_GROWTH                                     2839 non-null   float64\n",
      " 22  IQ_CFO_1YR_ANN_GROWTH                                    2839 non-null   float64\n",
      " 23  IQ_TOTAL_ASSETS_1YR_ANN_GROWTH                           2839 non-null   float64\n",
      " 24  IQ_EBITDA                                                2839 non-null   float64\n",
      " 25  IQ_PAYOUT_RATIO                                          2839 non-null   float64\n",
      " 26  IQ_CASH_ST_INVEST                                        2839 non-null   float64\n",
      " 27  IQ_NPPE                                                  2839 non-null   float64\n",
      " 28  IQ_GW                                                    2839 non-null   float64\n",
      " 29  IQ_RE                                                    2839 non-null   float64\n",
      " 30  IQ_TBV                                                   2839 non-null   float64\n",
      " 31  IQ_NET_DEBT                                              2839 non-null   float64\n",
      " 32  IQ_CONTINGENT_LIABILITIES                                2839 non-null   float64\n",
      " 33  IQ_CASH_OPER                                             2839 non-null   float64\n",
      " 34  IQ_CASH_INVEST                                           2839 non-null   float64\n",
      " 35  IQ_NET_CHANGE                                            2839 non-null   float64\n",
      " 36  Sector_Consumer Discretionary                            2839 non-null   uint8  \n",
      " 37  Sector_Consumer Staples                                  2839 non-null   uint8  \n",
      " 38  Sector_Energy                                            2839 non-null   uint8  \n",
      " 39  Sector_Finance                                           2839 non-null   uint8  \n",
      " 40  Sector_Health Care                                       2839 non-null   uint8  \n",
      " 41  Sector_Industrials                                       2839 non-null   uint8  \n",
      " 42  Sector_Miscellaneous                                     2839 non-null   uint8  \n",
      " 43  Sector_Real Estate                                       2839 non-null   uint8  \n",
      " 44  Sector_Technology                                        2839 non-null   uint8  \n",
      " 45  Sector_Telecommunications                                2839 non-null   uint8  \n",
      " 46  Sector_Utilities                                         2839 non-null   uint8  \n",
      " 47  Sector_nan                                               2839 non-null   uint8  \n",
      " 48  Country.1_Australia                                      2839 non-null   uint8  \n",
      " 49  Country.1_Bahamas                                        2839 non-null   uint8  \n",
      " 50  Country.1_Belgium                                        2839 non-null   uint8  \n",
      " 51  Country.1_Bermuda                                        2839 non-null   uint8  \n",
      " 52  Country.1_Brazil                                         2839 non-null   uint8  \n",
      " 53  Country.1_British Virgin Islands                         2839 non-null   uint8  \n",
      " 54  Country.1_Canada                                         2839 non-null   uint8  \n",
      " 55  Country.1_Cayman Islands                                 2839 non-null   uint8  \n",
      " 56  Country.1_Chile                                          2839 non-null   uint8  \n",
      " 57  Country.1_China                                          2839 non-null   uint8  \n",
      " 58  Country.1_Colombia                                       2839 non-null   uint8  \n",
      " 59  Country.1_Denmark                                        2839 non-null   uint8  \n",
      " 60  Country.1_Finland                                        2839 non-null   uint8  \n",
      " 61  Country.1_France                                         2839 non-null   uint8  \n",
      " 62  Country.1_Germany                                        2839 non-null   uint8  \n",
      " 63  Country.1_Greece                                         2839 non-null   uint8  \n",
      " 64  Country.1_Hong Kong                                      2839 non-null   uint8  \n",
      " 65  Country.1_India                                          2839 non-null   uint8  \n",
      " 66  Country.1_Indonesia                                      2839 non-null   uint8  \n",
      " 67  Country.1_Ireland                                        2839 non-null   uint8  \n",
      " 68  Country.1_Israel                                         2839 non-null   uint8  \n",
      " 69  Country.1_Italy                                          2839 non-null   uint8  \n",
      " 70  Country.1_Japan                                          2839 non-null   uint8  \n",
      " 71  Country.1_Jersey                                         2839 non-null   uint8  \n",
      " 72  Country.1_Luxembourg                                     2839 non-null   uint8  \n",
      " 73  Country.1_Macau                                          2839 non-null   uint8  \n",
      " 74  Country.1_Mexico                                         2839 non-null   uint8  \n",
      " 75  Country.1_Monaco                                         2839 non-null   uint8  \n",
      " 76  Country.1_Netherlands                                    2839 non-null   uint8  \n",
      " 77  Country.1_Nigeria                                        2839 non-null   uint8  \n",
      " 78  Country.1_Norway                                         2839 non-null   uint8  \n",
      " 79  Country.1_Panama                                         2839 non-null   uint8  \n",
      " 80  Country.1_Peru                                           2839 non-null   uint8  \n",
      " 81  Country.1_Philippines                                    2839 non-null   uint8  \n",
      " 82  Country.1_Singapore                                      2839 non-null   uint8  \n",
      " 83  Country.1_South Africa                                   2839 non-null   uint8  \n",
      " 84  Country.1_South Korea                                    2839 non-null   uint8  \n",
      " 85  Country.1_Spain                                          2839 non-null   uint8  \n",
      " 86  Country.1_Sweden                                         2839 non-null   uint8  \n",
      " 87  Country.1_Switzerland                                    2839 non-null   uint8  \n",
      " 88  Country.1_Taiwan                                         2839 non-null   uint8  \n",
      " 89  Country.1_Thailand                                       2839 non-null   uint8  \n",
      " 90  Country.1_Trinidad & Tobago                              2839 non-null   uint8  \n",
      " 91  Country.1_Turkey                                         2839 non-null   uint8  \n",
      " 92  Country.1_United Kingdom                                 2839 non-null   uint8  \n",
      " 93  Country.1_United States                                  2839 non-null   uint8  \n",
      " 94  Country.1_Uruguay                                        2839 non-null   uint8  \n",
      " 95  IQ_AUDITOR_OPINION_Qualified                             2839 non-null   uint8  \n",
      " 96  IQ_AUDITOR_OPINION_Unqualified                           2839 non-null   uint8  \n",
      " 97  IQ_AUDITOR_OPINION_Unqualified Going Concern             2839 non-null   uint8  \n",
      " 98  IQ_AUDITOR_OPINION_Unqualified with Additional Language  2839 non-null   uint8  \n",
      " 99  Positive or negative returns                             2839 non-null   int64  \n",
      "dtypes: float64(30), int64(1), object(6), uint8(63)\n",
      "memory usage: 1017.5+ KB\n"
     ]
    }
   ],
   "source": [
    "stockdata.info()"
   ]
  },
  {
   "cell_type": "code",
   "execution_count": 8,
   "id": "34e22125",
   "metadata": {},
   "outputs": [
    {
     "data": {
      "text/plain": [
       "<AxesSubplot:xlabel='Positive or negative returns', ylabel='count'>"
      ]
     },
     "execution_count": 8,
     "metadata": {},
     "output_type": "execute_result"
    },
    {
     "data": {
      "image/png": "[encoded data removed]",
      "text/plain": [
       "<Figure size 640x480 with 1 Axes>"
      ]
     },
     "metadata": {},
     "output_type": "display_data"
    }
   ],
   "source": [
    "sns.countplot(x='Positive or negative returns',data=stockdata)"
   ]
  },
  {
   "cell_type": "markdown",
   "id": "4f624a6b",
   "metadata": {},
   "source": [
    "# Logistic regression model"
   ]
  },
  {
   "cell_type": "code",
   "execution_count": 9,
   "id": "214fea5e",
   "metadata": {},
   "outputs": [],
   "source": [
    "from sklearn.model_selection import train_test_split\n",
    "\n",
    "X_train, X_test, y_train, y_test = train_test_split(stockdata.drop(['Symbol','longName','Name','IPO Year','Effective annual return','CIQ ID', 'Ticker', 'Short Business Description','Positive or negative returns'],axis=1), \n",
    "                                                    stockdata['Positive or negative returns'], test_size=0.30, \n",
    "                                                    random_state=101)"
   ]
  },
  {
   "cell_type": "code",
   "execution_count": 10,
   "id": "7529bc99",
   "metadata": {},
   "outputs": [],
   "source": [
    "from sklearn.preprocessing import StandardScaler\n",
    "scaler = StandardScaler()\n",
    "scaler.fit(X_train)\n",
    "scaled_features=scaler.transform(X_train)"
   ]
  },
  {
   "cell_type": "code",
   "execution_count": 11,
   "id": "91fb8659",
   "metadata": {},
   "outputs": [
    {
     "data": {
      "text/plain": [
       "LogisticRegression(max_iter=1000)"
      ]
     },
     "execution_count": 11,
     "metadata": {},
     "output_type": "execute_result"
    }
   ],
   "source": [
    "from sklearn.linear_model import LogisticRegression\n",
    "logmodel = LogisticRegression(max_iter=1000)\n",
    "logmodel.fit(scaled_features,y_train)"
   ]
  },
  {
   "cell_type": "code",
   "execution_count": 12,
   "id": "8bf6df53",
   "metadata": {},
   "outputs": [],
   "source": [
    "predictions = logmodel.predict(scaler.transform(X_test))"
   ]
  },
  {
   "cell_type": "code",
   "execution_count": 13,
   "id": "c8f68a3d",
   "metadata": {},
   "outputs": [
    {
     "name": "stdout",
     "output_type": "stream",
     "text": [
      "              precision    recall  f1-score   support\n",
      "\n",
      "           0       0.72      0.39      0.50       205\n",
      "           1       0.83      0.95      0.89       647\n",
      "\n",
      "    accuracy                           0.82       852\n",
      "   macro avg       0.77      0.67      0.69       852\n",
      "weighted avg       0.80      0.82      0.79       852\n",
      "\n"
     ]
    }
   ],
   "source": [
    "from sklearn.metrics import classification_report\n",
    "print(classification_report(y_test,predictions))"
   ]
  },
  {
   "cell_type": "code",
   "execution_count": 14,
   "id": "2f963f61",
   "metadata": {},
   "outputs": [
    {
     "data": {
      "text/plain": [
       "array([[ 79, 126],\n",
       "       [ 31, 616]], dtype=int64)"
      ]
     },
     "execution_count": 14,
     "metadata": {},
     "output_type": "execute_result"
    }
   ],
   "source": [
    "from sklearn.metrics import confusion_matrix\n",
    "confusion_matrix(y_test,predictions)"
   ]
  },
  {
   "cell_type": "markdown",
   "id": "5c212302",
   "metadata": {},
   "source": [
    "We note that the recall for negative returns is slightly low, meaning that the model falsely predicts more stocks to have positive returns when they in fact have negative returns. "
   ]
  },
  {
   "cell_type": "code",
   "execution_count": 17,
   "id": "7d57f04a",
   "metadata": {},
   "outputs": [],
   "source": [
    "#Remove the dummy variables for Country.1 except for Country.1_United States\n",
    "X_train, X_test, y_train, y_test = train_test_split(pd.concat([stockdata.iloc[:,8:48],stockdata['Country.1_United States'],stockdata.iloc[:,95:99]],axis=1), \n",
    "                                                    stockdata['Positive or negative returns'], test_size=0.30, \n",
    "                                                    random_state=101)"
   ]
  },
  {
   "cell_type": "code",
   "execution_count": 18,
   "id": "9b7d70ee",
   "metadata": {},
   "outputs": [],
   "source": [
    "from sklearn.preprocessing import StandardScaler\n",
    "scaler = StandardScaler()\n",
    "scaler.fit(X_train)\n",
    "scaled_features=scaler.transform(X_train)"
   ]
  },
  {
   "cell_type": "code",
   "execution_count": 19,
   "id": "5c68e8b1",
   "metadata": {},
   "outputs": [
    {
     "data": {
      "text/plain": [
       "LogisticRegression(max_iter=1000)"
      ]
     },
     "execution_count": 19,
     "metadata": {},
     "output_type": "execute_result"
    }
   ],
   "source": [
    "from sklearn.linear_model import LogisticRegression\n",
    "logmodel = LogisticRegression(max_iter=1000)\n",
    "logmodel.fit(scaled_features,y_train)"
   ]
  },
  {
   "cell_type": "code",
   "execution_count": 20,
   "id": "eafce81d",
   "metadata": {},
   "outputs": [],
   "source": [
    "predictions = logmodel.predict(scaler.transform(X_test))"
   ]
  },
  {
   "cell_type": "code",
   "execution_count": 21,
   "id": "c2809240",
   "metadata": {},
   "outputs": [
    {
     "name": "stdout",
     "output_type": "stream",
     "text": [
      "              precision    recall  f1-score   support\n",
      "\n",
      "           0       0.66      0.32      0.43       205\n",
      "           1       0.82      0.95      0.88       647\n",
      "\n",
      "    accuracy                           0.80       852\n",
      "   macro avg       0.74      0.63      0.65       852\n",
      "weighted avg       0.78      0.80      0.77       852\n",
      "\n"
     ]
    }
   ],
   "source": [
    "from sklearn.metrics import classification_report\n",
    "print(classification_report(y_test,predictions))"
   ]
  },
  {
   "cell_type": "code",
   "execution_count": 22,
   "id": "39b01791",
   "metadata": {},
   "outputs": [
    {
     "data": {
      "text/plain": [
       "array([[ 66, 139],\n",
       "       [ 34, 613]], dtype=int64)"
      ]
     },
     "execution_count": 22,
     "metadata": {},
     "output_type": "execute_result"
    }
   ],
   "source": [
    "from sklearn.metrics import confusion_matrix\n",
    "confusion_matrix(y_test,predictions)"
   ]
  },
  {
   "cell_type": "markdown",
   "id": "a5beae61",
   "metadata": {},
   "source": [
    "We note that the model performed slightly worse compared to when all Country.1 dummy variables were used."
   ]
  },
  {
   "cell_type": "markdown",
   "id": "69dc97b8",
   "metadata": {},
   "source": [
    "**Recursive Feature Elimination**"
   ]
  },
  {
   "cell_type": "code",
   "execution_count": 23,
   "id": "90771426",
   "metadata": {},
   "outputs": [],
   "source": [
    "X_train, X_test, y_train, y_test = train_test_split(pd.concat([stockdata.iloc[:,8:48],stockdata['Country.1_United States'],stockdata.iloc[:,95:99]],axis=1), \n",
    "                                                    stockdata['Positive or negative returns'], test_size=0.30, \n",
    "                                                    random_state=101)"
   ]
  },
  {
   "cell_type": "code",
   "execution_count": 24,
   "id": "1c2fd7b0",
   "metadata": {},
   "outputs": [],
   "source": [
    "scaler = StandardScaler()\n",
    "scaler.fit(X_train)\n",
    "scaled_features=scaler.transform(X_train)"
   ]
  },
  {
   "cell_type": "code",
   "execution_count": 25,
   "id": "bb8eda99",
   "metadata": {},
   "outputs": [
    {
     "data": {
      "text/plain": [
       "Index(['IQ_TOTAL_REV', 'IQ_NI_MARGIN', 'IQ_ASSET_TURNS',\n",
       "       'IQ_DAYS_INVENTORY_OUT', 'IQ_TOTAL_ASSETS_1YR_ANN_GROWTH',\n",
       "       'IQ_PAYOUT_RATIO', 'IQ_GW', 'IQ_TBV', 'IQ_CASH_INVEST', 'IQ_NET_CHANGE',\n",
       "       'Sector_Consumer Discretionary', 'Sector_Consumer Staples',\n",
       "       'Sector_Energy', 'Sector_Finance', 'Sector_Industrials',\n",
       "       'Sector_Real Estate', 'Sector_Technology', 'Sector_Utilities',\n",
       "       'Country.1_United States', 'IQ_AUDITOR_OPINION_Qualified',\n",
       "       'IQ_AUDITOR_OPINION_Unqualified',\n",
       "       'IQ_AUDITOR_OPINION_Unqualified with Additional Language'],\n",
       "      dtype='object')"
      ]
     },
     "execution_count": 25,
     "metadata": {},
     "output_type": "execute_result"
    }
   ],
   "source": [
    "# Half of the features will be selected by default, by eliminating the least important feature by coef_ after recursively training.\n",
    "from sklearn.feature_selection import RFE\n",
    "\n",
    "rfe_selector = RFE(estimator=LogisticRegression(), step = 1)\n",
    "rfe_selector.fit(scaled_features, y_train)\n",
    "pd.DataFrame(scaled_features,columns=pd.concat([stockdata.iloc[:,8:48],stockdata['Country.1_United States'],stockdata.iloc[:,95:99]],axis=1).columns).columns[rfe_selector.get_support()]"
   ]
  },
  {
   "cell_type": "code",
   "execution_count": 26,
   "id": "2635efa4",
   "metadata": {},
   "outputs": [],
   "source": [
    "X_train, X_test, y_train, y_test = train_test_split(stockdata[['IQ_TOTAL_REV', 'IQ_NI_MARGIN', 'IQ_ASSET_TURNS',\n",
    "       'IQ_DAYS_INVENTORY_OUT', 'IQ_TOTAL_ASSETS_1YR_ANN_GROWTH',\n",
    "       'IQ_PAYOUT_RATIO', 'IQ_GW', 'IQ_TBV', 'IQ_CASH_INVEST', 'IQ_NET_CHANGE',\n",
    "       'Sector_Consumer Discretionary', 'Sector_Consumer Staples',\n",
    "       'Sector_Energy', 'Sector_Finance', 'Sector_Industrials',\n",
    "       'Sector_Real Estate', 'Sector_Technology', 'Sector_Utilities',\n",
    "       'Country.1_United States', 'IQ_AUDITOR_OPINION_Qualified',\n",
    "       'IQ_AUDITOR_OPINION_Unqualified',\n",
    "       'IQ_AUDITOR_OPINION_Unqualified with Additional Language']], \n",
    "                                                    stockdata['Positive or negative returns'], test_size=0.30, \n",
    "                                                    random_state=101)"
   ]
  },
  {
   "cell_type": "code",
   "execution_count": 27,
   "id": "32ca5eba",
   "metadata": {},
   "outputs": [],
   "source": [
    "scaler = StandardScaler()\n",
    "scaler.fit(X_train)\n",
    "scaled_features=scaler.transform(X_train)"
   ]
  },
  {
   "cell_type": "code",
   "execution_count": 28,
   "id": "ec0e1762",
   "metadata": {},
   "outputs": [
    {
     "data": {
      "text/plain": [
       "LogisticRegression(max_iter=1000)"
      ]
     },
     "execution_count": 28,
     "metadata": {},
     "output_type": "execute_result"
    }
   ],
   "source": [
    "from sklearn.linear_model import LogisticRegression\n",
    "logmodel = LogisticRegression(max_iter=1000)\n",
    "logmodel.fit(scaled_features,y_train)"
   ]
  },
  {
   "cell_type": "code",
   "execution_count": 29,
   "id": "e22ffc2a",
   "metadata": {},
   "outputs": [],
   "source": [
    "predictions = logmodel.predict(scaler.transform(X_test))"
   ]
  },
  {
   "cell_type": "code",
   "execution_count": 30,
   "id": "5958765b",
   "metadata": {},
   "outputs": [
    {
     "name": "stdout",
     "output_type": "stream",
     "text": [
      "              precision    recall  f1-score   support\n",
      "\n",
      "           0       0.61      0.26      0.36       205\n",
      "           1       0.80      0.95      0.87       647\n",
      "\n",
      "    accuracy                           0.78       852\n",
      "   macro avg       0.71      0.60      0.62       852\n",
      "weighted avg       0.76      0.78      0.75       852\n",
      "\n"
     ]
    }
   ],
   "source": [
    "from sklearn.metrics import classification_report\n",
    "print(classification_report(y_test,predictions))"
   ]
  },
  {
   "cell_type": "code",
   "execution_count": 31,
   "id": "8b17cd17",
   "metadata": {},
   "outputs": [
    {
     "data": {
      "text/plain": [
       "array([[ 53, 152],\n",
       "       [ 34, 613]], dtype=int64)"
      ]
     },
     "execution_count": 31,
     "metadata": {},
     "output_type": "execute_result"
    }
   ],
   "source": [
    "from sklearn.metrics import confusion_matrix\n",
    "confusion_matrix(y_test,predictions)"
   ]
  },
  {
   "cell_type": "code",
   "execution_count": 33,
   "id": "c318306f",
   "metadata": {},
   "outputs": [],
   "source": [
    "#Putting back the Country.1 dummy variables into the model, and performing RFE\n",
    "X_train, X_test, y_train, y_test = train_test_split(stockdata.drop(['Symbol','longName','Name','IPO Year','Effective annual return','CIQ ID', 'Ticker', 'Short Business Description','Positive or negative returns'],axis=1), \n",
    "                                                    stockdata['Positive or negative returns'], test_size=0.30, \n",
    "                                                    random_state=101)"
   ]
  },
  {
   "cell_type": "code",
   "execution_count": 34,
   "id": "792adfbc",
   "metadata": {},
   "outputs": [],
   "source": [
    "scaler = StandardScaler()\n",
    "scaler.fit(X_train)\n",
    "scaled_features=scaler.transform(X_train)"
   ]
  },
  {
   "cell_type": "code",
   "execution_count": 35,
   "id": "aa29109b",
   "metadata": {},
   "outputs": [
    {
     "data": {
      "text/plain": [
       "Index(['IQ_TOTAL_REV', 'IQ_RETURN_EQUITY', 'IQ_GROSS_MARGIN', 'IQ_NI_MARGIN',\n",
       "       'IQ_ASSET_TURNS', 'IQ_DAYS_INVENTORY_OUT', 'IQ_DAYS_PAYABLE_OUT',\n",
       "       'IQ_TOTAL_ASSETS_1YR_ANN_GROWTH', 'IQ_EBITDA', 'IQ_PAYOUT_RATIO',\n",
       "       'IQ_CASH_ST_INVEST', 'IQ_GW', 'IQ_TBV', 'IQ_CONTINGENT_LIABILITIES',\n",
       "       'IQ_CASH_OPER', 'IQ_CASH_INVEST', 'Sector_Consumer Discretionary',\n",
       "       'Sector_Consumer Staples', 'Sector_Energy', 'Sector_Finance',\n",
       "       'Sector_Industrials', 'Sector_Real Estate', 'Sector_Technology',\n",
       "       'Sector_Utilities', 'Country.1_Denmark', 'Country.1_Germany',\n",
       "       'Country.1_Greece', 'Country.1_Ireland', 'Country.1_Jersey',\n",
       "       'Country.1_Luxembourg', 'Country.1_Macau', 'Country.1_Monaco',\n",
       "       'Country.1_Norway', 'Country.1_Panama', 'Country.1_Peru',\n",
       "       'Country.1_Philippines', 'Country.1_Singapore', 'Country.1_South Korea',\n",
       "       'Country.1_Spain', 'Country.1_Thailand', 'Country.1_United States',\n",
       "       'Country.1_Uruguay', 'IQ_AUDITOR_OPINION_Qualified',\n",
       "       'IQ_AUDITOR_OPINION_Unqualified',\n",
       "       'IQ_AUDITOR_OPINION_Unqualified with Additional Language'],\n",
       "      dtype='object')"
      ]
     },
     "execution_count": 35,
     "metadata": {},
     "output_type": "execute_result"
    }
   ],
   "source": [
    "# Half of the features will be selected by default, by eliminating the least important feature by coef_ after recursively training.\n",
    "from sklearn.feature_selection import RFE\n",
    "\n",
    "rfe_selector = RFE(estimator=LogisticRegression(), step = 1)\n",
    "rfe_selector.fit(scaled_features, y_train)\n",
    "pd.DataFrame(scaled_features,columns=stockdata.drop(['Symbol','longName','Name','IPO Year','Effective annual return','CIQ ID', 'Ticker', 'Short Business Description','Positive or negative returns'],axis=1).columns).columns[rfe_selector.get_support()]"
   ]
  },
  {
   "cell_type": "code",
   "execution_count": 36,
   "id": "696e334b",
   "metadata": {},
   "outputs": [],
   "source": [
    "X_train, X_test, y_train, y_test = train_test_split(stockdata[['IQ_TOTAL_REV', 'IQ_RETURN_EQUITY', 'IQ_GROSS_MARGIN', 'IQ_NI_MARGIN',\n",
    "       'IQ_ASSET_TURNS', 'IQ_DAYS_INVENTORY_OUT', 'IQ_DAYS_PAYABLE_OUT',\n",
    "       'IQ_TOTAL_ASSETS_1YR_ANN_GROWTH', 'IQ_EBITDA', 'IQ_PAYOUT_RATIO',\n",
    "       'IQ_CASH_ST_INVEST', 'IQ_GW', 'IQ_TBV', 'IQ_CONTINGENT_LIABILITIES',\n",
    "       'IQ_CASH_OPER', 'IQ_CASH_INVEST', 'Sector_Consumer Discretionary',\n",
    "       'Sector_Consumer Staples', 'Sector_Energy', 'Sector_Finance',\n",
    "       'Sector_Industrials', 'Sector_Real Estate', 'Sector_Technology',\n",
    "       'Sector_Utilities', 'Country.1_Denmark', 'Country.1_Germany',\n",
    "       'Country.1_Greece', 'Country.1_Ireland', 'Country.1_Jersey',\n",
    "       'Country.1_Luxembourg', 'Country.1_Macau', 'Country.1_Monaco',\n",
    "       'Country.1_Norway', 'Country.1_Panama', 'Country.1_Peru',\n",
    "       'Country.1_Philippines', 'Country.1_Singapore', 'Country.1_South Korea',\n",
    "       'Country.1_Spain', 'Country.1_Thailand', 'Country.1_United States',\n",
    "       'Country.1_Uruguay', 'IQ_AUDITOR_OPINION_Qualified',\n",
    "       'IQ_AUDITOR_OPINION_Unqualified',\n",
    "       'IQ_AUDITOR_OPINION_Unqualified with Additional Language']], \n",
    "                                                    stockdata['Positive or negative returns'], test_size=0.30, \n",
    "                                                    random_state=101)"
   ]
  },
  {
   "cell_type": "code",
   "execution_count": 37,
   "id": "4f9ec036",
   "metadata": {},
   "outputs": [],
   "source": [
    "scaler = StandardScaler()\n",
    "scaler.fit(X_train)\n",
    "scaled_features=scaler.transform(X_train)"
   ]
  },
  {
   "cell_type": "code",
   "execution_count": 38,
   "id": "27304f28",
   "metadata": {},
   "outputs": [
    {
     "data": {
      "text/plain": [
       "LogisticRegression(max_iter=1000)"
      ]
     },
     "execution_count": 38,
     "metadata": {},
     "output_type": "execute_result"
    }
   ],
   "source": [
    "from sklearn.linear_model import LogisticRegression\n",
    "logmodel = LogisticRegression(max_iter=1000)\n",
    "logmodel.fit(scaled_features,y_train)"
   ]
  },
  {
   "cell_type": "code",
   "execution_count": 39,
   "id": "b616351d",
   "metadata": {},
   "outputs": [],
   "source": [
    "predictions = logmodel.predict(scaler.transform(X_test))"
   ]
  },
  {
   "cell_type": "code",
   "execution_count": 40,
   "id": "768e775f",
   "metadata": {},
   "outputs": [
    {
     "name": "stdout",
     "output_type": "stream",
     "text": [
      "              precision    recall  f1-score   support\n",
      "\n",
      "           0       0.67      0.36      0.47       205\n",
      "           1       0.82      0.94      0.88       647\n",
      "\n",
      "    accuracy                           0.80       852\n",
      "   macro avg       0.75      0.65      0.67       852\n",
      "weighted avg       0.79      0.80      0.78       852\n",
      "\n"
     ]
    }
   ],
   "source": [
    "from sklearn.metrics import classification_report\n",
    "print(classification_report(y_test,predictions))"
   ]
  },
  {
   "cell_type": "code",
   "execution_count": 41,
   "id": "1dc2b6e4",
   "metadata": {},
   "outputs": [
    {
     "data": {
      "text/plain": [
       "array([[ 74, 131],\n",
       "       [ 36, 611]], dtype=int64)"
      ]
     },
     "execution_count": 41,
     "metadata": {},
     "output_type": "execute_result"
    }
   ],
   "source": [
    "from sklearn.metrics import confusion_matrix\n",
    "confusion_matrix(y_test,predictions)"
   ]
  },
  {
   "cell_type": "code",
   "execution_count": 43,
   "id": "27561012",
   "metadata": {},
   "outputs": [],
   "source": [
    "X_train, X_test, y_train, y_test = train_test_split(stockdata.drop(['Symbol','longName','Name','IPO Year','Effective annual return','CIQ ID', 'Ticker', 'Short Business Description','Positive or negative returns'],axis=1), \n",
    "                                                    stockdata['Positive or negative returns'], test_size=0.30, \n",
    "                                                    random_state=101)"
   ]
  },
  {
   "cell_type": "code",
   "execution_count": 44,
   "id": "5a2e9c38",
   "metadata": {},
   "outputs": [],
   "source": [
    "scaler = StandardScaler()\n",
    "scaler.fit(X_train)\n",
    "scaled_features=scaler.transform(X_train)"
   ]
  },
  {
   "cell_type": "code",
   "execution_count": 46,
   "id": "b2b0a67d",
   "metadata": {},
   "outputs": [
    {
     "data": {
      "text/plain": [
       "Index(['IQ_TOTAL_REV', 'IQ_TOTAL_ASSETS_1YR_ANN_GROWTH', 'IQ_PAYOUT_RATIO',\n",
       "       'IQ_GW', 'IQ_TBV', 'Sector_Energy', 'Sector_Finance',\n",
       "       'Country.1_Greece', 'IQ_AUDITOR_OPINION_Unqualified',\n",
       "       'IQ_AUDITOR_OPINION_Unqualified with Additional Language'],\n",
       "      dtype='object')"
      ]
     },
     "execution_count": 46,
     "metadata": {},
     "output_type": "execute_result"
    }
   ],
   "source": [
    "from sklearn.feature_selection import RFE\n",
    "\n",
    "rfe_selector = RFE(estimator=LogisticRegression(), n_features_to_select = 10, step = 1)\n",
    "rfe_selector.fit(scaled_features, y_train)\n",
    "pd.DataFrame(scaled_features,columns=stockdata.drop(['Symbol','longName','Name','IPO Year','Effective annual return','CIQ ID', 'Ticker', 'Short Business Description','Positive or negative returns'],axis=1).columns).columns[rfe_selector.get_support()]"
   ]
  },
  {
   "cell_type": "code",
   "execution_count": 47,
   "id": "f7ef4f2b",
   "metadata": {},
   "outputs": [],
   "source": [
    "X_train, X_test, y_train, y_test = train_test_split(stockdata[['IQ_TOTAL_REV', 'IQ_TOTAL_ASSETS_1YR_ANN_GROWTH', 'IQ_PAYOUT_RATIO',\n",
    "       'IQ_GW', 'IQ_TBV', 'Sector_Energy', 'Sector_Finance',\n",
    "       'Country.1_Greece', 'IQ_AUDITOR_OPINION_Unqualified',\n",
    "       'IQ_AUDITOR_OPINION_Unqualified with Additional Language']], \n",
    "                                                    stockdata['Positive or negative returns'], test_size=0.30, \n",
    "                                                    random_state=101)"
   ]
  },
  {
   "cell_type": "code",
   "execution_count": 48,
   "id": "f5c2f75e",
   "metadata": {},
   "outputs": [],
   "source": [
    "scaler = StandardScaler()\n",
    "scaler.fit(X_train)\n",
    "scaled_features=scaler.transform(X_train)"
   ]
  },
  {
   "cell_type": "code",
   "execution_count": 49,
   "id": "40bbfa75",
   "metadata": {},
   "outputs": [
    {
     "data": {
      "text/plain": [
       "LogisticRegression(max_iter=1000)"
      ]
     },
     "execution_count": 49,
     "metadata": {},
     "output_type": "execute_result"
    }
   ],
   "source": [
    "from sklearn.linear_model import LogisticRegression\n",
    "logmodel = LogisticRegression(max_iter=1000)\n",
    "logmodel.fit(scaled_features,y_train)"
   ]
  },
  {
   "cell_type": "code",
   "execution_count": 50,
   "id": "3cbf8ea5",
   "metadata": {},
   "outputs": [],
   "source": [
    "predictions = logmodel.predict(scaler.transform(X_test))"
   ]
  },
  {
   "cell_type": "code",
   "execution_count": 51,
   "id": "3f63e81b",
   "metadata": {},
   "outputs": [
    {
     "name": "stdout",
     "output_type": "stream",
     "text": [
      "              precision    recall  f1-score   support\n",
      "\n",
      "           0       0.64      0.24      0.35       205\n",
      "           1       0.80      0.96      0.87       647\n",
      "\n",
      "    accuracy                           0.79       852\n",
      "   macro avg       0.72      0.60      0.61       852\n",
      "weighted avg       0.76      0.79      0.75       852\n",
      "\n"
     ]
    }
   ],
   "source": [
    "from sklearn.metrics import classification_report\n",
    "print(classification_report(y_test,predictions))"
   ]
  },
  {
   "cell_type": "code",
   "execution_count": 52,
   "id": "4000943e",
   "metadata": {},
   "outputs": [
    {
     "data": {
      "text/plain": [
       "array([[ 49, 156],\n",
       "       [ 27, 620]], dtype=int64)"
      ]
     },
     "execution_count": 52,
     "metadata": {},
     "output_type": "execute_result"
    }
   ],
   "source": [
    "from sklearn.metrics import confusion_matrix\n",
    "confusion_matrix(y_test,predictions)"
   ]
  },
  {
   "cell_type": "markdown",
   "id": "139159a7",
   "metadata": {},
   "source": [
    "It seems that the logistic regression model performs better with more features, and with all of Country.1 dummy variables."
   ]
  },
  {
   "cell_type": "markdown",
   "id": "73fe2145",
   "metadata": {},
   "source": [
    "**Variance threshold**"
   ]
  },
  {
   "cell_type": "code",
   "execution_count": 53,
   "id": "db15bf6e",
   "metadata": {},
   "outputs": [],
   "source": [
    "X_train, X_test, y_train, y_test = train_test_split(stockdata.drop(['Symbol','longName','Name','IPO Year','Effective annual return','CIQ ID', 'Ticker', 'Short Business Description','Positive or negative returns'],axis=1), \n",
    "                                                    stockdata['Positive or negative returns'], test_size=0.30, \n",
    "                                                    random_state=101)"
   ]
  },
  {
   "cell_type": "code",
   "execution_count": 54,
   "id": "39d41758",
   "metadata": {},
   "outputs": [],
   "source": [
    "scaler = StandardScaler()\n",
    "scaler.fit(X_train)\n",
    "scaled_features=scaler.transform(X_train)"
   ]
  },
  {
   "cell_type": "code",
   "execution_count": 57,
   "id": "90f37048",
   "metadata": {},
   "outputs": [
    {
     "data": {
      "text/plain": [
       "Index(['IQ_RETURN_ASSETS', 'IQ_EBITDA_MARGIN', 'IQ_ASSET_TURNS',\n",
       "       'IQ_DAYS_SALES_OUT', 'IQ_TOTAL_DEBT_EQUITY', 'IQ_NI_1YR_ANN_GROWTH',\n",
       "       'IQ_TOTAL_ASSETS_1YR_ANN_GROWTH', 'IQ_NET_DEBT', 'IQ_CASH_OPER',\n",
       "       'Sector_Energy', 'Sector_Finance', 'Sector_Miscellaneous',\n",
       "       'Sector_Technology', 'Sector_Utilities', 'Country.1_Bermuda',\n",
       "       'Country.1_Canada', 'Country.1_Hong Kong', 'Country.1_Norway',\n",
       "       'Country.1_Panama', 'Country.1_Peru', 'IQ_AUDITOR_OPINION_Unqualified',\n",
       "       'IQ_AUDITOR_OPINION_Unqualified Going Concern',\n",
       "       'IQ_AUDITOR_OPINION_Unqualified with Additional Language'],\n",
       "      dtype='object')"
      ]
     },
     "execution_count": 57,
     "metadata": {},
     "output_type": "execute_result"
    }
   ],
   "source": [
    "# To set variance threshold of 1.\n",
    "from sklearn.feature_selection import VarianceThreshold\n",
    "\n",
    "selector = VarianceThreshold(1)\n",
    "selector.fit(scaled_features)\n",
    "pd.DataFrame(scaled_features,columns=stockdata.drop(['Symbol','longName','Name','IPO Year','Effective annual return','CIQ ID', 'Ticker', 'Short Business Description','Positive or negative returns'],axis=1).columns).columns[selector.get_support()]"
   ]
  },
  {
   "cell_type": "code",
   "execution_count": 58,
   "id": "1f13cb79",
   "metadata": {},
   "outputs": [],
   "source": [
    "X_train, X_test, y_train, y_test = train_test_split(stockdata[['IQ_RETURN_ASSETS', 'IQ_EBITDA_MARGIN', 'IQ_ASSET_TURNS',\n",
    "       'IQ_DAYS_SALES_OUT', 'IQ_TOTAL_DEBT_EQUITY', 'IQ_NI_1YR_ANN_GROWTH',\n",
    "       'IQ_TOTAL_ASSETS_1YR_ANN_GROWTH', 'IQ_NET_DEBT', 'IQ_CASH_OPER',\n",
    "       'Sector_Energy', 'Sector_Finance', 'Sector_Miscellaneous',\n",
    "       'Sector_Technology', 'Sector_Utilities', 'Country.1_Bermuda',\n",
    "       'Country.1_Canada', 'Country.1_Hong Kong', 'Country.1_Norway',\n",
    "       'Country.1_Panama', 'Country.1_Peru', 'IQ_AUDITOR_OPINION_Unqualified',\n",
    "       'IQ_AUDITOR_OPINION_Unqualified Going Concern',\n",
    "       'IQ_AUDITOR_OPINION_Unqualified with Additional Language']], \n",
    "                                                    stockdata['Positive or negative returns'], test_size=0.30, \n",
    "                                                    random_state=101)"
   ]
  },
  {
   "cell_type": "code",
   "execution_count": 59,
   "id": "4ef6ac32",
   "metadata": {},
   "outputs": [],
   "source": [
    "scaler = StandardScaler()\n",
    "scaler.fit(X_train)\n",
    "scaled_features=scaler.transform(X_train)"
   ]
  },
  {
   "cell_type": "code",
   "execution_count": 60,
   "id": "b6bc0c43",
   "metadata": {},
   "outputs": [
    {
     "data": {
      "text/plain": [
       "LogisticRegression(max_iter=1000)"
      ]
     },
     "execution_count": 60,
     "metadata": {},
     "output_type": "execute_result"
    }
   ],
   "source": [
    "from sklearn.linear_model import LogisticRegression\n",
    "logmodel = LogisticRegression(max_iter=1000)\n",
    "logmodel.fit(scaled_features,y_train)"
   ]
  },
  {
   "cell_type": "code",
   "execution_count": 61,
   "id": "476d4996",
   "metadata": {},
   "outputs": [],
   "source": [
    "predictions = logmodel.predict(scaler.transform(X_test))"
   ]
  },
  {
   "cell_type": "code",
   "execution_count": 62,
   "id": "d549f730",
   "metadata": {},
   "outputs": [
    {
     "name": "stdout",
     "output_type": "stream",
     "text": [
      "              precision    recall  f1-score   support\n",
      "\n",
      "           0       0.60      0.26      0.37       205\n",
      "           1       0.80      0.94      0.87       647\n",
      "\n",
      "    accuracy                           0.78       852\n",
      "   macro avg       0.70      0.60      0.62       852\n",
      "weighted avg       0.75      0.78      0.75       852\n",
      "\n"
     ]
    }
   ],
   "source": [
    "from sklearn.metrics import classification_report\n",
    "print(classification_report(y_test,predictions))"
   ]
  },
  {
   "cell_type": "code",
   "execution_count": 63,
   "id": "16982b80",
   "metadata": {},
   "outputs": [
    {
     "data": {
      "text/plain": [
       "array([[ 54, 151],\n",
       "       [ 36, 611]], dtype=int64)"
      ]
     },
     "execution_count": 63,
     "metadata": {},
     "output_type": "execute_result"
    }
   ],
   "source": [
    "from sklearn.metrics import confusion_matrix\n",
    "confusion_matrix(y_test,predictions)"
   ]
  },
  {
   "cell_type": "markdown",
   "id": "e73903bb",
   "metadata": {},
   "source": [
    "**SelectKBest**"
   ]
  },
  {
   "cell_type": "code",
   "execution_count": 65,
   "id": "5cc68fa6",
   "metadata": {},
   "outputs": [],
   "source": [
    "X_train, X_test, y_train, y_test = train_test_split(stockdata.drop(['Symbol','longName','Name','IPO Year','Effective annual return','CIQ ID', 'Ticker', 'Short Business Description','Positive or negative returns'],axis=1), \n",
    "                                                    stockdata['Positive or negative returns'], test_size=0.30, \n",
    "                                                    random_state=101)"
   ]
  },
  {
   "cell_type": "code",
   "execution_count": 66,
   "id": "1b7de6ff",
   "metadata": {},
   "outputs": [],
   "source": [
    "scaler = StandardScaler()\n",
    "scaler.fit(X_train)\n",
    "scaled_features=scaler.transform(X_train)"
   ]
  },
  {
   "cell_type": "code",
   "execution_count": 67,
   "id": "314ab432",
   "metadata": {},
   "outputs": [
    {
     "data": {
      "text/plain": [
       "Index(['IQ_TOTAL_REV', 'IQ_RETURN_ASSETS', 'IQ_RETURN_EQUITY',\n",
       "       'IQ_TOTAL_REV_1YR_ANN_GROWTH', 'IQ_CASH_OPER'],\n",
       "      dtype='object')"
      ]
     },
     "execution_count": 67,
     "metadata": {},
     "output_type": "execute_result"
    }
   ],
   "source": [
    "#Select top 5 features based on mutual info regression\n",
    "from sklearn.feature_selection import SelectKBest, mutual_info_regression\n",
    "\n",
    "selector = SelectKBest(mutual_info_regression, k = 5)\n",
    "selector.fit(scaled_features, y_train)\n",
    "pd.DataFrame(scaled_features,columns=stockdata.drop(['Symbol','longName','Name','IPO Year','Effective annual return','CIQ ID', 'Ticker', 'Short Business Description','Positive or negative returns'],axis=1).columns).columns[selector.get_support()]"
   ]
  },
  {
   "cell_type": "code",
   "execution_count": 68,
   "id": "7b53af3b",
   "metadata": {},
   "outputs": [],
   "source": [
    "X_train, X_test, y_train, y_test = train_test_split(stockdata[['IQ_TOTAL_REV', 'IQ_RETURN_ASSETS', 'IQ_RETURN_EQUITY',\n",
    "       'IQ_TOTAL_REV_1YR_ANN_GROWTH', 'IQ_CASH_OPER']], \n",
    "                                                    stockdata['Positive or negative returns'], test_size=0.30, \n",
    "                                                    random_state=101)"
   ]
  },
  {
   "cell_type": "code",
   "execution_count": 69,
   "id": "207f116f",
   "metadata": {},
   "outputs": [],
   "source": [
    "scaler = StandardScaler()\n",
    "scaler.fit(X_train)\n",
    "scaled_features=scaler.transform(X_train)"
   ]
  },
  {
   "cell_type": "code",
   "execution_count": 70,
   "id": "644aafac",
   "metadata": {},
   "outputs": [
    {
     "data": {
      "text/plain": [
       "LogisticRegression(max_iter=1000)"
      ]
     },
     "execution_count": 70,
     "metadata": {},
     "output_type": "execute_result"
    }
   ],
   "source": [
    "from sklearn.linear_model import LogisticRegression\n",
    "logmodel = LogisticRegression(max_iter=1000)\n",
    "logmodel.fit(scaled_features,y_train)"
   ]
  },
  {
   "cell_type": "code",
   "execution_count": 71,
   "id": "00cf3aa9",
   "metadata": {},
   "outputs": [],
   "source": [
    "predictions = logmodel.predict(scaler.transform(X_test))"
   ]
  },
  {
   "cell_type": "code",
   "execution_count": 72,
   "id": "2851f852",
   "metadata": {},
   "outputs": [
    {
     "name": "stdout",
     "output_type": "stream",
     "text": [
      "              precision    recall  f1-score   support\n",
      "\n",
      "           0       0.33      0.00      0.01       205\n",
      "           1       0.76      1.00      0.86       647\n",
      "\n",
      "    accuracy                           0.76       852\n",
      "   macro avg       0.55      0.50      0.44       852\n",
      "weighted avg       0.66      0.76      0.66       852\n",
      "\n"
     ]
    }
   ],
   "source": [
    "from sklearn.metrics import classification_report\n",
    "print(classification_report(y_test,predictions))"
   ]
  },
  {
   "cell_type": "code",
   "execution_count": 73,
   "id": "1b604939",
   "metadata": {},
   "outputs": [
    {
     "data": {
      "text/plain": [
       "array([[  1, 204],\n",
       "       [  2, 645]], dtype=int64)"
      ]
     },
     "execution_count": 73,
     "metadata": {},
     "output_type": "execute_result"
    }
   ],
   "source": [
    "from sklearn.metrics import confusion_matrix\n",
    "confusion_matrix(y_test,predictions)"
   ]
  },
  {
   "cell_type": "markdown",
   "id": "1f8eae89",
   "metadata": {},
   "source": [
    "**SelectFromModel**"
   ]
  },
  {
   "cell_type": "code",
   "execution_count": 78,
   "id": "7ea00ff6",
   "metadata": {},
   "outputs": [],
   "source": [
    "X_train, X_test, y_train, y_test = train_test_split(stockdata.drop(['Symbol','longName','Name','IPO Year','Effective annual return','CIQ ID', 'Ticker', 'Short Business Description','Positive or negative returns'],axis=1), \n",
    "                                                    stockdata['Positive or negative returns'], test_size=0.30, \n",
    "                                                    random_state=101)"
   ]
  },
  {
   "cell_type": "code",
   "execution_count": 79,
   "id": "04cb0a26",
   "metadata": {},
   "outputs": [],
   "source": [
    "scaler = StandardScaler()\n",
    "scaler.fit(X_train)\n",
    "scaled_features=scaler.transform(X_train)"
   ]
  },
  {
   "cell_type": "code",
   "execution_count": 80,
   "id": "4c0672a5",
   "metadata": {},
   "outputs": [
    {
     "data": {
      "text/plain": [
       "Index(['IQ_TOTAL_REV', 'IQ_RETURN_EQUITY', 'IQ_NI_MARGIN', 'IQ_ASSET_TURNS',\n",
       "       'IQ_TOTAL_ASSETS_1YR_ANN_GROWTH', 'IQ_EBITDA', 'IQ_PAYOUT_RATIO',\n",
       "       'IQ_CASH_ST_INVEST', 'IQ_GW', 'IQ_TBV', 'IQ_CASH_OPER',\n",
       "       'IQ_CASH_INVEST', 'Sector_Consumer Discretionary',\n",
       "       'Sector_Consumer Staples', 'Sector_Energy', 'Sector_Finance',\n",
       "       'Sector_Industrials', 'Sector_Real Estate', 'Sector_Technology',\n",
       "       'Sector_Utilities', 'Country.1_Germany', 'Country.1_Greece',\n",
       "       'Country.1_Ireland', 'Country.1_Luxembourg', 'Country.1_Peru',\n",
       "       'Country.1_Singapore', 'Country.1_Spain', 'Country.1_United States',\n",
       "       'IQ_AUDITOR_OPINION_Unqualified',\n",
       "       'IQ_AUDITOR_OPINION_Unqualified with Additional Language'],\n",
       "      dtype='object')"
      ]
     },
     "execution_count": 80,
     "metadata": {},
     "output_type": "execute_result"
    }
   ],
   "source": [
    "from sklearn.feature_selection import SelectFromModel\n",
    "\n",
    "sfm_selector = SelectFromModel(estimator=LogisticRegression())\n",
    "sfm_selector.fit(scaled_features, y_train)\n",
    "pd.DataFrame(scaled_features,columns=stockdata.drop(['Symbol','longName','Name','IPO Year','Effective annual return','CIQ ID', 'Ticker', 'Short Business Description','Positive or negative returns'],axis=1).columns).columns[sfm_selector.get_support()]"
   ]
  },
  {
   "cell_type": "code",
   "execution_count": 81,
   "id": "54ba710c",
   "metadata": {},
   "outputs": [],
   "source": [
    "X_train, X_test, y_train, y_test = train_test_split(stockdata[['IQ_TOTAL_REV', 'IQ_RETURN_EQUITY', 'IQ_NI_MARGIN', 'IQ_ASSET_TURNS',\n",
    "       'IQ_TOTAL_ASSETS_1YR_ANN_GROWTH', 'IQ_EBITDA', 'IQ_PAYOUT_RATIO',\n",
    "       'IQ_CASH_ST_INVEST', 'IQ_GW', 'IQ_TBV', 'IQ_CASH_OPER',\n",
    "       'IQ_CASH_INVEST', 'Sector_Consumer Discretionary',\n",
    "       'Sector_Consumer Staples', 'Sector_Energy', 'Sector_Finance',\n",
    "       'Sector_Industrials', 'Sector_Real Estate', 'Sector_Technology',\n",
    "       'Sector_Utilities', 'Country.1_Germany', 'Country.1_Greece',\n",
    "       'Country.1_Ireland', 'Country.1_Luxembourg', 'Country.1_Peru',\n",
    "       'Country.1_Singapore', 'Country.1_Spain', 'Country.1_United States',\n",
    "       'IQ_AUDITOR_OPINION_Unqualified',\n",
    "       'IQ_AUDITOR_OPINION_Unqualified with Additional Language']], \n",
    "                                                    stockdata['Positive or negative returns'], test_size=0.30, \n",
    "                                                    random_state=101)"
   ]
  },
  {
   "cell_type": "code",
   "execution_count": 82,
   "id": "3cd47ada",
   "metadata": {},
   "outputs": [],
   "source": [
    "scaler = StandardScaler()\n",
    "scaler.fit(X_train)\n",
    "scaled_features=scaler.transform(X_train)"
   ]
  },
  {
   "cell_type": "code",
   "execution_count": 83,
   "id": "82d4c8c1",
   "metadata": {},
   "outputs": [
    {
     "data": {
      "text/plain": [
       "LogisticRegression(max_iter=1000)"
      ]
     },
     "execution_count": 83,
     "metadata": {},
     "output_type": "execute_result"
    }
   ],
   "source": [
    "from sklearn.linear_model import LogisticRegression\n",
    "logmodel = LogisticRegression(max_iter=1000)\n",
    "logmodel.fit(scaled_features,y_train)"
   ]
  },
  {
   "cell_type": "code",
   "execution_count": 84,
   "id": "f2e9f83e",
   "metadata": {},
   "outputs": [],
   "source": [
    "predictions = logmodel.predict(scaler.transform(X_test))"
   ]
  },
  {
   "cell_type": "code",
   "execution_count": 85,
   "id": "b6af82ba",
   "metadata": {},
   "outputs": [
    {
     "name": "stdout",
     "output_type": "stream",
     "text": [
      "              precision    recall  f1-score   support\n",
      "\n",
      "           0       0.66      0.29      0.40       205\n",
      "           1       0.81      0.95      0.87       647\n",
      "\n",
      "    accuracy                           0.79       852\n",
      "   macro avg       0.73      0.62      0.64       852\n",
      "weighted avg       0.77      0.79      0.76       852\n",
      "\n"
     ]
    }
   ],
   "source": [
    "from sklearn.metrics import classification_report\n",
    "print(classification_report(y_test,predictions))"
   ]
  },
  {
   "cell_type": "code",
   "execution_count": 86,
   "id": "225b1064",
   "metadata": {},
   "outputs": [
    {
     "data": {
      "text/plain": [
       "array([[ 59, 146],\n",
       "       [ 31, 616]], dtype=int64)"
      ]
     },
     "execution_count": 86,
     "metadata": {},
     "output_type": "execute_result"
    }
   ],
   "source": [
    "from sklearn.metrics import confusion_matrix\n",
    "confusion_matrix(y_test,predictions)"
   ]
  },
  {
   "cell_type": "markdown",
   "id": "18c029c5",
   "metadata": {},
   "source": [
    "**Sequential Feature Selection (Forward)**"
   ]
  },
  {
   "cell_type": "code",
   "execution_count": 89,
   "id": "654ecffc",
   "metadata": {},
   "outputs": [],
   "source": [
    "X_train, X_test, y_train, y_test = train_test_split(stockdata.drop(['Symbol','longName','Name','IPO Year','Effective annual return','CIQ ID', 'Ticker', 'Short Business Description','Positive or negative returns'],axis=1), \n",
    "                                                    stockdata['Positive or negative returns'], test_size=0.30, \n",
    "                                                    random_state=101)"
   ]
  },
  {
   "cell_type": "code",
   "execution_count": 90,
   "id": "c61bca8c",
   "metadata": {},
   "outputs": [],
   "source": [
    "scaler = StandardScaler()\n",
    "scaler.fit(X_train)\n",
    "scaled_features=scaler.transform(X_train)"
   ]
  },
  {
   "cell_type": "code",
   "execution_count": 91,
   "id": "ee00318a",
   "metadata": {},
   "outputs": [
    {
     "data": {
      "text/plain": [
       "Index(['IQ_TOTAL_REV', 'IQ_GROSS_MARGIN', 'IQ_ASSET_TURNS', 'IQ_CURRENT_RATIO',\n",
       "       'IQ_DAYS_SALES_OUT', 'IQ_DAYS_PAYABLE_OUT', 'IQ_TOTAL_DEBT_EQUITY',\n",
       "       'IQ_TOTAL_REV_1YR_ANN_GROWTH', 'IQ_TOTAL_ASSETS_1YR_ANN_GROWTH',\n",
       "       'IQ_PAYOUT_RATIO', 'IQ_CASH_OPER', 'Sector_Consumer Staples',\n",
       "       'Sector_Energy', 'Sector_Finance', 'Sector_Health Care',\n",
       "       'Sector_Real Estate', 'Sector_Utilities', 'Sector_nan',\n",
       "       'Country.1_Bahamas', 'Country.1_Belgium', 'Country.1_Bermuda',\n",
       "       'Country.1_British Virgin Islands', 'Country.1_Canada',\n",
       "       'Country.1_Cayman Islands', 'Country.1_Chile', 'Country.1_China',\n",
       "       'Country.1_Colombia', 'Country.1_Denmark', 'Country.1_Finland',\n",
       "       'Country.1_France', 'Country.1_Germany', 'Country.1_Greece',\n",
       "       'Country.1_Indonesia', 'Country.1_Ireland', 'Country.1_Japan',\n",
       "       'Country.1_Jersey', 'Country.1_Macau', 'Country.1_Nigeria',\n",
       "       'Country.1_Panama', 'Country.1_Peru', 'Country.1_South Africa',\n",
       "       'Country.1_South Korea', 'Country.1_Spain', 'Country.1_United Kingdom',\n",
       "       'IQ_AUDITOR_OPINION_Unqualified Going Concern'],\n",
       "      dtype='object')"
      ]
     },
     "execution_count": 91,
     "metadata": {},
     "output_type": "execute_result"
    }
   ],
   "source": [
    "from sklearn.feature_selection import SequentialFeatureSelector\n",
    "\n",
    "sfs_selector = SequentialFeatureSelector(estimator=LogisticRegression(),direction='forward')\n",
    "sfs_selector.fit(scaled_features, y_train)\n",
    "pd.DataFrame(scaled_features,columns=stockdata.drop(['Symbol','longName','Name','IPO Year','Effective annual return','CIQ ID', 'Ticker', 'Short Business Description','Positive or negative returns'],axis=1).columns).columns[sfs_selector.get_support()]"
   ]
  },
  {
   "cell_type": "code",
   "execution_count": 92,
   "id": "8c3348e3",
   "metadata": {},
   "outputs": [],
   "source": [
    "X_train, X_test, y_train, y_test = train_test_split(stockdata[['IQ_TOTAL_REV', 'IQ_GROSS_MARGIN', 'IQ_ASSET_TURNS', 'IQ_CURRENT_RATIO',\n",
    "       'IQ_DAYS_SALES_OUT', 'IQ_DAYS_PAYABLE_OUT', 'IQ_TOTAL_DEBT_EQUITY',\n",
    "       'IQ_TOTAL_REV_1YR_ANN_GROWTH', 'IQ_TOTAL_ASSETS_1YR_ANN_GROWTH',\n",
    "       'IQ_PAYOUT_RATIO', 'IQ_CASH_OPER', 'Sector_Consumer Staples',\n",
    "       'Sector_Energy', 'Sector_Finance', 'Sector_Health Care',\n",
    "       'Sector_Real Estate', 'Sector_Utilities', 'Sector_nan',\n",
    "       'Country.1_Bahamas', 'Country.1_Belgium', 'Country.1_Bermuda',\n",
    "       'Country.1_British Virgin Islands', 'Country.1_Canada',\n",
    "       'Country.1_Cayman Islands', 'Country.1_Chile', 'Country.1_China',\n",
    "       'Country.1_Colombia', 'Country.1_Denmark', 'Country.1_Finland',\n",
    "       'Country.1_France', 'Country.1_Germany', 'Country.1_Greece',\n",
    "       'Country.1_Indonesia', 'Country.1_Ireland', 'Country.1_Japan',\n",
    "       'Country.1_Jersey', 'Country.1_Macau', 'Country.1_Nigeria',\n",
    "       'Country.1_Panama', 'Country.1_Peru', 'Country.1_South Africa',\n",
    "       'Country.1_South Korea', 'Country.1_Spain', 'Country.1_United Kingdom',\n",
    "       'IQ_AUDITOR_OPINION_Unqualified Going Concern']], \n",
    "                                                    stockdata['Positive or negative returns'], test_size=0.30, \n",
    "                                                    random_state=101)"
   ]
  },
  {
   "cell_type": "code",
   "execution_count": 93,
   "id": "4b838fbd",
   "metadata": {},
   "outputs": [],
   "source": [
    "scaler = StandardScaler()\n",
    "scaler.fit(X_train)\n",
    "scaled_features=scaler.transform(X_train)"
   ]
  },
  {
   "cell_type": "code",
   "execution_count": 94,
   "id": "26ca2dc5",
   "metadata": {},
   "outputs": [
    {
     "data": {
      "text/plain": [
       "LogisticRegression(max_iter=1000)"
      ]
     },
     "execution_count": 94,
     "metadata": {},
     "output_type": "execute_result"
    }
   ],
   "source": [
    "from sklearn.linear_model import LogisticRegression\n",
    "logmodel = LogisticRegression(max_iter=1000)\n",
    "logmodel.fit(scaled_features,y_train)"
   ]
  },
  {
   "cell_type": "code",
   "execution_count": 95,
   "id": "b5eacd72",
   "metadata": {},
   "outputs": [],
   "source": [
    "predictions = logmodel.predict(scaler.transform(X_test))"
   ]
  },
  {
   "cell_type": "code",
   "execution_count": 96,
   "id": "66403b65",
   "metadata": {},
   "outputs": [
    {
     "name": "stdout",
     "output_type": "stream",
     "text": [
      "              precision    recall  f1-score   support\n",
      "\n",
      "           0       0.72      0.33      0.45       205\n",
      "           1       0.82      0.96      0.88       647\n",
      "\n",
      "    accuracy                           0.81       852\n",
      "   macro avg       0.77      0.64      0.67       852\n",
      "weighted avg       0.79      0.81      0.78       852\n",
      "\n"
     ]
    }
   ],
   "source": [
    "from sklearn.metrics import classification_report\n",
    "print(classification_report(y_test,predictions))"
   ]
  },
  {
   "cell_type": "code",
   "execution_count": 97,
   "id": "e35c5ffd",
   "metadata": {},
   "outputs": [
    {
     "data": {
      "text/plain": [
       "array([[ 68, 137],\n",
       "       [ 27, 620]], dtype=int64)"
      ]
     },
     "execution_count": 97,
     "metadata": {},
     "output_type": "execute_result"
    }
   ],
   "source": [
    "from sklearn.metrics import confusion_matrix\n",
    "confusion_matrix(y_test,predictions)"
   ]
  },
  {
   "cell_type": "markdown",
   "id": "c96ddb8f",
   "metadata": {},
   "source": [
    "**Sequential Feature Selection (Backward)**"
   ]
  },
  {
   "cell_type": "code",
   "execution_count": 101,
   "id": "3a52a58f",
   "metadata": {},
   "outputs": [],
   "source": [
    "X_train, X_test, y_train, y_test = train_test_split(stockdata.drop(['Symbol','longName','Name','IPO Year','Effective annual return','CIQ ID', 'Ticker', 'Short Business Description','Positive or negative returns'],axis=1), \n",
    "                                                    stockdata['Positive or negative returns'], test_size=0.30, \n",
    "                                                    random_state=101)"
   ]
  },
  {
   "cell_type": "code",
   "execution_count": 102,
   "id": "f514507d",
   "metadata": {},
   "outputs": [],
   "source": [
    "scaler = StandardScaler()\n",
    "scaler.fit(X_train)\n",
    "scaled_features=scaler.transform(X_train)"
   ]
  },
  {
   "cell_type": "code",
   "execution_count": 103,
   "id": "fd329088",
   "metadata": {},
   "outputs": [
    {
     "data": {
      "text/plain": [
       "Index(['IQ_TOTAL_REV', 'IQ_RETURN_ASSETS', 'IQ_RETURN_EQUITY',\n",
       "       'IQ_GROSS_MARGIN', 'IQ_EBITDA_MARGIN', 'IQ_NI_MARGIN', 'IQ_ASSET_TURNS',\n",
       "       'IQ_DAYS_PAYABLE_OUT', 'IQ_TOTAL_ASSETS_1YR_ANN_GROWTH',\n",
       "       'IQ_PAYOUT_RATIO', 'IQ_GW', 'IQ_TBV', 'IQ_NET_DEBT',\n",
       "       'IQ_CONTINGENT_LIABILITIES', 'IQ_CASH_INVEST', 'IQ_NET_CHANGE',\n",
       "       'Sector_Consumer Discretionary', 'Sector_Energy', 'Sector_Finance',\n",
       "       'Sector_Health Care', 'Sector_Miscellaneous', 'Sector_Real Estate',\n",
       "       'Sector_Technology', 'Sector_Utilities', 'Sector_nan',\n",
       "       'Country.1_Bermuda', 'Country.1_Canada', 'Country.1_Cayman Islands',\n",
       "       'Country.1_China', 'Country.1_Germany', 'Country.1_Greece',\n",
       "       'Country.1_India', 'Country.1_Ireland', 'Country.1_Israel',\n",
       "       'Country.1_Japan', 'Country.1_Luxembourg', 'Country.1_Monaco',\n",
       "       'Country.1_South Africa', 'Country.1_South Korea', 'Country.1_Spain',\n",
       "       'Country.1_United Kingdom', 'Country.1_United States',\n",
       "       'IQ_AUDITOR_OPINION_Unqualified',\n",
       "       'IQ_AUDITOR_OPINION_Unqualified Going Concern',\n",
       "       'IQ_AUDITOR_OPINION_Unqualified with Additional Language'],\n",
       "      dtype='object')"
      ]
     },
     "execution_count": 103,
     "metadata": {},
     "output_type": "execute_result"
    }
   ],
   "source": [
    "from sklearn.feature_selection import SequentialFeatureSelector\n",
    "\n",
    "sfs_selector = SequentialFeatureSelector(estimator=LogisticRegression(),direction='backward')\n",
    "sfs_selector.fit(scaled_features, y_train)\n",
    "pd.DataFrame(scaled_features,columns=stockdata.drop(['Symbol','longName','Name','IPO Year','Effective annual return','CIQ ID', 'Ticker', 'Short Business Description','Positive or negative returns'],axis=1).columns).columns[sfs_selector.get_support()]"
   ]
  },
  {
   "cell_type": "code",
   "execution_count": 105,
   "id": "dbe12b20",
   "metadata": {},
   "outputs": [],
   "source": [
    "X_train, X_test, y_train, y_test = train_test_split(stockdata[['IQ_TOTAL_REV', 'IQ_RETURN_ASSETS', 'IQ_RETURN_EQUITY',\n",
    "       'IQ_GROSS_MARGIN', 'IQ_EBITDA_MARGIN', 'IQ_NI_MARGIN', 'IQ_ASSET_TURNS',\n",
    "       'IQ_DAYS_PAYABLE_OUT', 'IQ_TOTAL_ASSETS_1YR_ANN_GROWTH',\n",
    "       'IQ_PAYOUT_RATIO', 'IQ_GW', 'IQ_TBV', 'IQ_NET_DEBT',\n",
    "       'IQ_CONTINGENT_LIABILITIES', 'IQ_CASH_INVEST', 'IQ_NET_CHANGE',\n",
    "       'Sector_Consumer Discretionary', 'Sector_Energy', 'Sector_Finance',\n",
    "       'Sector_Health Care', 'Sector_Miscellaneous', 'Sector_Real Estate',\n",
    "       'Sector_Technology', 'Sector_Utilities', 'Sector_nan',\n",
    "       'Country.1_Bermuda', 'Country.1_Canada', 'Country.1_Cayman Islands',\n",
    "       'Country.1_China', 'Country.1_Germany', 'Country.1_Greece',\n",
    "       'Country.1_India', 'Country.1_Ireland', 'Country.1_Israel',\n",
    "       'Country.1_Japan', 'Country.1_Luxembourg', 'Country.1_Monaco',\n",
    "       'Country.1_South Africa', 'Country.1_South Korea', 'Country.1_Spain',\n",
    "       'Country.1_United Kingdom', 'Country.1_United States',\n",
    "       'IQ_AUDITOR_OPINION_Unqualified',\n",
    "       'IQ_AUDITOR_OPINION_Unqualified Going Concern',\n",
    "       'IQ_AUDITOR_OPINION_Unqualified with Additional Language']], \n",
    "                                                    stockdata['Positive or negative returns'], test_size=0.30, \n",
    "                                                    random_state=101)"
   ]
  },
  {
   "cell_type": "code",
   "execution_count": 106,
   "id": "65536279",
   "metadata": {},
   "outputs": [],
   "source": [
    "scaler = StandardScaler()\n",
    "scaler.fit(X_train)\n",
    "scaled_features=scaler.transform(X_train)"
   ]
  },
  {
   "cell_type": "code",
   "execution_count": 107,
   "id": "f30a87b7",
   "metadata": {},
   "outputs": [
    {
     "data": {
      "text/plain": [
       "LogisticRegression(max_iter=1000)"
      ]
     },
     "execution_count": 107,
     "metadata": {},
     "output_type": "execute_result"
    }
   ],
   "source": [
    "from sklearn.linear_model import LogisticRegression\n",
    "logmodel = LogisticRegression(max_iter=1000)\n",
    "logmodel.fit(scaled_features,y_train)"
   ]
  },
  {
   "cell_type": "code",
   "execution_count": 108,
   "id": "aa044389",
   "metadata": {},
   "outputs": [],
   "source": [
    "predictions = logmodel.predict(scaler.transform(X_test))"
   ]
  },
  {
   "cell_type": "code",
   "execution_count": 109,
   "id": "5e3f2ac8",
   "metadata": {},
   "outputs": [
    {
     "name": "stdout",
     "output_type": "stream",
     "text": [
      "              precision    recall  f1-score   support\n",
      "\n",
      "           0       0.73      0.37      0.49       205\n",
      "           1       0.83      0.96      0.89       647\n",
      "\n",
      "    accuracy                           0.82       852\n",
      "   macro avg       0.78      0.66      0.69       852\n",
      "weighted avg       0.80      0.82      0.79       852\n",
      "\n"
     ]
    }
   ],
   "source": [
    "from sklearn.metrics import classification_report\n",
    "print(classification_report(y_test,predictions))"
   ]
  },
  {
   "cell_type": "code",
   "execution_count": 110,
   "id": "079b4184",
   "metadata": {},
   "outputs": [
    {
     "data": {
      "text/plain": [
       "array([[ 76, 129],\n",
       "       [ 28, 619]], dtype=int64)"
      ]
     },
     "execution_count": 110,
     "metadata": {},
     "output_type": "execute_result"
    }
   ],
   "source": [
    "from sklearn.metrics import confusion_matrix\n",
    "confusion_matrix(y_test,predictions)"
   ]
  },
  {
   "cell_type": "markdown",
   "id": "43382603",
   "metadata": {},
   "source": [
    "**Logistic regression model metrics**\n",
    "\n",
    "|**Features**|**Accuracy**|**Weight avg f1-score**|\n",
    "|---------------------------|-----|---|\n",
    "|With all 91 features including all dummy variables|**0.82**|**0.79**|\n",
    "|With Country.1 dummy variables removed except Country.1_United States (45 features)|0.80|0.77|\n",
    "|With recursive feature elimination, with only Country.1_United States Country.1 dummy variable (22 features)|0.78|0.75|\n",
    "|With recursive feature elimination, with all dummy variables (45 features)|0.80|0.78|\n",
    "|With recursive feature elimination, with all dummy variables (10 features)|0.79|0.75|\n",
    "|With variance threshold feature selection, with all dummy variables (23 features)|0.78|0.75|\n",
    "|With SelectKBest feature selection using mutual info regression, with all dummy variables (5 features)|0.76|0.66|\n",
    "|With SelectFromModel feature selection, with all dummy variables (30 features)|0.79|0.76|\n",
    "|With sequential feature selection (forward) (45 features)|0.81|0.78|\n",
    "|With sequential feature selection (backward) (45 features)|**0.82**|**0.79**|"
   ]
  },
  {
   "cell_type": "code",
   "execution_count": null,
   "id": "4289cb5f",
   "metadata": {},
   "outputs": [],
   "source": []
  }
 ],
 "metadata": {
  "kernelspec": {
   "display_name": "Python 3 (ipykernel)",
   "language": "python",
   "name": "python3"
  },
  "language_info": {
   "codemirror_mode": {
    "name": "ipython",
    "version": 3
   },
   "file_extension": ".py",
   "mimetype": "text/x-python",
   "name": "python",
   "nbconvert_exporter": "python",
   "pygments_lexer": "ipython3",
   "version": "3.9.13"
  }
 },
 "nbformat": 4,
 "nbformat_minor": 5
}
